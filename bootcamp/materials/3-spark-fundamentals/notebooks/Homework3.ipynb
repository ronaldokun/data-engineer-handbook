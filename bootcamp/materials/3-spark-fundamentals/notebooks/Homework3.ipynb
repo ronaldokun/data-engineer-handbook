{
 "cells": [
  {
   "cell_type": "code",
   "execution_count": 1,
   "id": "16b8fbd3-9717-4f60-935a-58323bf86e62",
   "metadata": {},
   "outputs": [],
   "source": [
    "from pathlib import Path\n",
    "from pyspark.sql import SparkSession\n",
    "from pyspark.sql.functions import broadcast, col, count, avg, desc, sum, countDistinct, coalesce\n",
    "from pyspark.sql.window import Window\n"
   ]
  },
  {
   "cell_type": "code",
   "execution_count": 2,
   "id": "d6f635e9-7952-4d58-9724-e163d14beaa1",
   "metadata": {},
   "outputs": [
    {
     "name": "stderr",
     "output_type": "stream",
     "text": [
      "24/12/13 20:11:19 WARN SparkSession: Using an existing Spark session; only runtime SQL configurations will take effect.\n"
     ]
    }
   ],
   "source": [
    "spark = (SparkSession.builder\n",
    "         .appName(\"HomeWork3\")\n",
    "         .getOrCreate()\n",
    "        )"
   ]
  },
  {
   "cell_type": "code",
   "execution_count": 3,
   "id": "54aa1662-b23d-4bcf-8189-824c73a8d2b3",
   "metadata": {},
   "outputs": [],
   "source": [
    "# Disable automatic broadcast joins\n",
    "spark.conf.set(\"spark.sql.autoBroadcastJoinThreshold\", \"-1\")"
   ]
  },
  {
   "cell_type": "code",
   "execution_count": 4,
   "id": "f5b06af0-8381-4720-9293-c3d71dfe707c",
   "metadata": {},
   "outputs": [],
   "source": [
    "folder = Path(\"/home/iceberg/data/\")\n",
    "match_details_path = f\"{folder}/match_details.csv\"\n",
    "matches_path = f\"{folder}/matches.csv\"\n",
    "medals_path = f\"{folder}/medals.csv\"\n",
    "medals_matches_players_path = f\"{folder}/medals_matches_players.csv\"\n",
    "maps_path = f\"{folder}/maps.csv\""
   ]
  },
  {
   "cell_type": "code",
   "execution_count": 5,
   "id": "b3acd6e7-827a-4839-9384-a1d2f7185cfc",
   "metadata": {},
   "outputs": [],
   "source": [
    "# Reading CSV files into DataFrames\n",
    "match_details_df = spark.read.csv(match_details_path, header=True, inferSchema=True)\n",
    "matches_df = spark.read.csv(matches_path, header=True, inferSchema=True)\n",
    "medals_matches_players_df = spark.read.csv(medals_matches_players_path, header=True, inferSchema=True)\n",
    "medals_df = spark.read.csv(medals_path, header=True, inferSchema=True)\n",
    "maps_df = spark.read.csv(maps_path, header=True, inferSchema= True)"
   ]
  },
  {
   "cell_type": "code",
   "execution_count": 6,
   "id": "1fe9da3c-76b0-4f50-8db5-c3a784953474",
   "metadata": {},
   "outputs": [
    {
     "name": "stderr",
     "output_type": "stream",
     "text": [
      "24/12/13 20:11:28 WARN SparkStringUtils: Truncated the string representation of a plan since it was too large. This behavior can be adjusted by setting 'spark.sql.debug.maxToStringFields'.\n"
     ]
    }
   ],
   "source": [
    "# Register DataFrames as temporary views or write them to Delta tables\n",
    "match_details_df.createOrReplaceTempView(\"match_details\")\n",
    "matches_df.createOrReplaceTempView(\"matches\")\n",
    "medals_matches_players_df.createOrReplaceTempView(\"medals_matches_players\")\n",
    "medals_df.createOrReplaceTempView(\"medals\")\n",
    "maps_df.createOrReplaceTempView(\"maps\")"
   ]
  },
  {
   "cell_type": "code",
   "execution_count": 7,
   "id": "5b573c53-7cb7-4561-98b8-ee55a3c818dc",
   "metadata": {},
   "outputs": [
    {
     "name": "stdout",
     "output_type": "stream",
     "text": [
      "+--------------------+---------------+---------------------+------------+-----------------+--------+-----------------+------------------------+------------+---------------------------------+-----------------+----------------+-----------------------+-----------+--------------------------------+----------------+-------------------+---------------+-------------------+------------------+----------------------+--------------------------+-------------------------+------------------------+-------------------------+---------------------------+-------------------------------+--------------------------------+---------------------------+--------------------------------+-------------------------------+-------------------+--------------------+--------------------------+-------+-------+\n",
      "|            match_id|player_gamertag|previous_spartan_rank|spartan_rank|previous_total_xp|total_xp|previous_csr_tier|previous_csr_designation|previous_csr|previous_csr_percent_to_next_tier|previous_csr_rank|current_csr_tier|current_csr_designation|current_csr|current_csr_percent_to_next_tier|current_csr_rank|player_rank_on_team|player_finished|player_average_life|player_total_kills|player_total_headshots|player_total_weapon_damage|player_total_shots_landed|player_total_melee_kills|player_total_melee_damage|player_total_assassinations|player_total_ground_pound_kills|player_total_shoulder_bash_kills|player_total_grenade_damage|player_total_power_weapon_damage|player_total_power_weapon_grabs|player_total_deaths|player_total_assists|player_total_grenade_kills|did_win|team_id|\n",
      "+--------------------+---------------+---------------------+------------+-----------------+--------+-----------------+------------------------+------------+---------------------------------+-----------------+----------------+-----------------------+-----------+--------------------------------+----------------+-------------------+---------------+-------------------+------------------+----------------------+--------------------------+-------------------------+------------------------+-------------------------+---------------------------+-------------------------------+--------------------------------+---------------------------+--------------------------------+-------------------------------+-------------------+--------------------+--------------------------+-------+-------+\n",
      "|71d79b23-4143-435...|      taterbase|                    5|           5|            12537|   13383|                1|                       3|           0|                               98|             NULL|               2|                      3|          0|                              26|            NULL|                  4|          false|        PT14.81149S|                 6|                     4|                     255.0|                       28|                       0|                      0.0|                          0|                              0|                               0|                        0.0|                             0.0|                              0|                 13|                   1|                         0|      1|      1|\n",
      "|71d79b23-4143-435...| SuPeRSaYaInG0D|                   18|          18|           131943|  132557|                2|                       3|           0|                                2|             NULL|               1|                      3|          0|                              76|            NULL|                  7|          false|      PT11.2990845S|                 7|                     3|        350.58792304992676|                       49|                       1|                     45.0|                          0|                              0|                               0|                        0.0|                             0.0|                              0|                 18|                   2|                         0|      0|      0|\n",
      "|71d79b23-4143-435...|       EcZachly|                   21|          21|           168811|  169762|                2|                       5|           0|                               94|             NULL|               3|                      5|          0|                              24|            NULL|                  3|          false|      PT19.1357063S|                12|                    12|                     625.0|                       43|                       0|                      0.0|                          0|                              0|                               0|                        0.0|                             0.0|                              0|                 10|                   4|                         0|      1|      1|\n",
      "|71d79b23-4143-435...|    johnsnake04|                   14|          14|            64073|   64639|             NULL|                    NULL|        NULL|                             NULL|             NULL|            NULL|                   NULL|       NULL|                            NULL|            NULL|                  6|          false|      PT21.1521599S|                13|                    13|                     605.0|                       24|                       0|                      0.0|                          0|                              0|                               0|                        0.0|                             0.0|                              0|                  9|                   2|                         0|      0|      0|\n",
      "|71d79b23-4143-435...| Super Mac Bros|                   26|          26|           243425|  244430|                1|                       5|           0|                               86|             NULL|               2|                      5|          0|                               8|            NULL|                  2|          false|      PT12.8373793S|                13|                    12|                     595.0|                       32|                       1|       20.004501342773438|                          0|                              0|                               0|                        0.0|                             0.0|                              0|                 15|                   2|                         0|      1|      1|\n",
      "|71d79b23-4143-435...|   Wingspear0k8|                   18|          18|           129281|  129937|             NULL|                    NULL|        NULL|                             NULL|             NULL|               1|                      5|          0|                               0|            NULL|                  5|          false|      PT17.4531394S|                21|                    18|         822.8789710998535|                       53|                       2|        90.00449999980628|                          0|                              0|                               0|                        0.0|                             0.0|                              0|                 11|                   0|                         0|      0|      0|\n",
      "|71d79b23-4143-435...|  JakeWilson801|                   18|          18|           118483|  119849|                1|                       4|           0|                               96|             NULL|               2|                      4|          0|                              24|            NULL|                  1|          false|       PT21.154286S|                19|                    18|                     865.0|                       57|                       0|                      0.0|                          0|                              0|                               0|                        0.0|                             0.0|                              0|                  9|                   1|                         0|      1|      1|\n",
      "|71d79b23-4143-435...|       xTOTIx12|                   16|          16|            91632|   92224|             NULL|                    NULL|        NULL|                             NULL|             NULL|            NULL|                   NULL|       NULL|                            NULL|            NULL|                  8|          false|      PT14.8119293S|                 6|                     6|        274.90775299072266|                       26|                       0|                      0.0|                          0|                              0|                               0|                        0.0|                             0.0|                              0|                 13|                   1|                         0|      0|      0|\n",
      "|fc3cefc0-954a-456...|       EcZachly|                   61|          61|          1276248| 1276979|                1|                       5|           0|                                8|             NULL|               1|                      5|          0|                               0|            NULL|                  5|          false|      PT17.4548378S|                 9|                     9|                     410.0|                       16|                       0|                      0.0|                          0|                              0|                               0|                        0.0|                             0.0|                              0|                 10|                   1|                         0|      0|      1|\n",
      "|fc3cefc0-954a-456...|  De Spelbreker|                   83|          83|          2303102| 2304723|                3|                       4|           0|                               68|             NULL|               3|                      4|          0|                              96|            NULL|                  4|          false|      PT22.5787499S|                10|                     8|        385.00000190734863|                       29|                       2|                     65.0|                          0|                              0|                               0|                        0.0|                             0.0|                              0|                  7|                   1|                         0|      1|      0|\n",
      "|fc3cefc0-954a-456...|xXJointProXx NL|                   61|          62|          1279098| 1280871|                2|                       4|           0|                               68|             NULL|               2|                      4|          0|                              92|            NULL|                  1|          false|       PT19.742837S|                15|                    14|                     615.0|                       33|                       0|                     45.0|                          1|                              0|                               0|                        0.0|                             0.0|                              0|                  8|                   0|                         0|      1|      0|\n",
      "|fc3cefc0-954a-456...|   Stormbane321|                   14|          14|            70556|   71050|                1|                       4|           0|                               48|             NULL|               1|                      4|          0|                              32|            NULL|                  6|          false|        PT11.61249S|                 9|                     9|                     450.0|                       25|                       0|                      0.0|                          0|                              0|                               0|                        0.0|                             0.0|                              0|                 13|                   0|                         0|      0|      1|\n",
      "|fc3cefc0-954a-456...|     deVerdeler|                   82|          82|          2271708| 2272786|                5|                       4|           0|                               96|             NULL|               6|                      4|          0|                              22|            NULL|                  2|          false|      PT15.5739569S|                13|                    12|                     580.0|                       26|                       1|        45.00450134277344|                          0|                              0|                               0|                        0.0|                             0.0|                              0|                 10|                   1|                         0|      1|      0|\n",
      "|fc3cefc0-954a-456...|   TaubeGraph07|                   45|          45|           668043|  668697|                2|                       4|           0|                               26|             NULL|               2|                      4|          0|                               6|            NULL|                  8|          false|      PT10.6332601S|                 5|                     5|        242.49999952316284|                       13|                       0|                      0.0|                          0|                              0|                               0|                        0.0|                             0.0|                              0|                 14|                   0|                         0|      0|      1|\n",
      "|fc3cefc0-954a-456...|      derkarl15|                   51|          51|           910510|  911173|                6|                       3|           0|                               68|             NULL|               6|                      3|          0|                              48|            NULL|                  7|          false|      PT12.5038253S|                 8|                     6|                     305.0|                       18|                       2|        90.00449999980628|                          0|                              0|                               0|                        0.0|                             0.0|                              0|                 13|                   1|                         0|      0|      1|\n",
      "|fc3cefc0-954a-456...|   Skainai sama|                   28|          28|           295532|  296926|             NULL|                    NULL|        NULL|                             NULL|             NULL|            NULL|                   NULL|       NULL|                            NULL|            NULL|                  3|          false|      PT26.2458304S|                12|                    12|                     565.0|                       28|                       0|                      0.0|                          0|                              0|                               0|                        0.0|                             0.0|                              0|                  6|                   2|                         0|      1|      0|\n",
      "|322ae96f-7c46-450...|         Acerr1|                   27|          27|           272613|  273951|                4|                       4|           0|                               56|             NULL|               5|                      4|          0|                               6|            NULL|                  4|          false|      PT24.6986235S|                15|                     5|         2232.053300857544|                      156|                       2|        77.82261085510254|                          1|                              0|                               0|           281.012451171875|              294.22798585891724|                              0|                 14|                   7|                         1|      1|      0|\n",
      "|322ae96f-7c46-450...| Outlaw Fo LifE|                  111|         111|          3952656| 3953981|                6|                       5|           0|                               76|             NULL|               6|                      5|          0|                              32|            NULL|                  7|          false|      PT20.8639847S|                13|                     1|        2506.9466705322266|                      268|                       0|                    140.0|                          0|                              0|                               0|          557.2050848007202|                             0.0|                              0|                 16|                  18|                         1|      0|      1|\n",
      "|322ae96f-7c46-450...|    ILLICIT 117|                   84|          84|          2424679| 2426570|                1|                       5|           0|                               82|             NULL|               2|                      5|          0|                              28|            NULL|                  1|          false|       PT16.523964S|                 6|                     4|         743.8497371673584|                       57|                       1|                    210.0|                          0|                              0|                               0|          104.0456314086914|                             0.0|                              0|                 19|                   8|                         0|      1|      0|\n",
      "|322ae96f-7c46-450...| Darknight 1993|                  105|         105|          3500833| 3502154|                5|                       5|           0|                               68|             NULL|               5|                      5|          0|                              22|            NULL|                  6|          false|      PT20.8523365S|                21|                     5|        2009.4742918014526|                      162|                       5|        369.8188018798828|                          0|                              0|                               0|          629.1446075439453|               135.5218963623047|                              0|                 16|                  13|                         4|      0|      1|\n",
      "+--------------------+---------------+---------------------+------------+-----------------+--------+-----------------+------------------------+------------+---------------------------------+-----------------+----------------+-----------------------+-----------+--------------------------------+----------------+-------------------+---------------+-------------------+------------------+----------------------+--------------------------+-------------------------+------------------------+-------------------------+---------------------------+-------------------------------+--------------------------------+---------------------------+--------------------------------+-------------------------------+-------------------+--------------------+--------------------------+-------+-------+\n",
      "only showing top 20 rows\n",
      "\n"
     ]
    }
   ],
   "source": [
    "match_details_df.show()"
   ]
  },
  {
   "cell_type": "code",
   "execution_count": 8,
   "id": "45be1464-3afa-45ac-b9ea-61e5441c118c",
   "metadata": {},
   "outputs": [
    {
     "name": "stdout",
     "output_type": "stream",
     "text": [
      "+--------------------+--------------------+------------+--------------------+--------------------+-------------+-------------------+--------------+---------+--------------------+\n",
      "|            match_id|               mapid|is_team_game|         playlist_id|     game_variant_id|is_match_over|    completion_date|match_duration|game_mode|      map_variant_id|\n",
      "+--------------------+--------------------+------------+--------------------+--------------------+-------------+-------------------+--------------+---------+--------------------+\n",
      "|11de1a94-8d07-416...|c7edbf0f-f206-11e...|        true|f72e0ef0-7c4a-430...|1e473914-46e4-408...|         true|2016-02-22 00:00:00|          NULL|     NULL|                NULL|\n",
      "|d3643e71-3e51-43e...|cb914b9e-f206-11e...|       false|d0766624-dbd7-453...|257a305e-4dd3-41f...|         true|2016-02-14 00:00:00|          NULL|     NULL|                NULL|\n",
      "|d78d2aae-36e4-48a...|c7edbf0f-f206-11e...|        true|f72e0ef0-7c4a-430...|1e473914-46e4-408...|         true|2016-03-24 00:00:00|          NULL|     NULL|55e5ee2e-88df-465...|\n",
      "|b440069e-ec5f-4f5...|c7edbf0f-f206-11e...|        true|f72e0ef0-7c4a-430...|1e473914-46e4-408...|         true|2015-12-23 00:00:00|          NULL|     NULL|ec3eef73-13e3-4d4...|\n",
      "|1dd475fc-ee6b-4e1...|c93d708f-f206-11e...|        true|0e39ead4-383b-445...|42f97cca-2cb4-497...|         true|2016-04-07 00:00:00|          NULL|     NULL|                NULL|\n",
      "|848f02ad-72ef-479...|cbcea2c0-f206-11e...|        true|2323b76a-db98-4e0...|257a305e-4dd3-41f...|         true|2016-03-17 00:00:00|          NULL|     NULL|                NULL|\n",
      "|e207adc1-4d7a-43a...|cc74f4e1-f206-11e...|        true|2323b76a-db98-4e0...|257a305e-4dd3-41f...|         true|2016-04-05 00:00:00|          NULL|     NULL|                NULL|\n",
      "|1fb5c2ec-ca60-434...|ca737f8f-f206-11e...|        true|bc0f8ad6-31e6-4a1...|257a305e-4dd3-41f...|         true|2015-12-16 00:00:00|          NULL|     NULL|                NULL|\n",
      "|54f1cbd2-2be6-4d5...|cbcea2c0-f206-11e...|        NULL|892189e9-d712-4bd...|257a305e-4dd3-41f...|         NULL|2016-02-04 00:00:00|          NULL|     NULL|7108c409-6d1e-41d...|\n",
      "|9e079488-1355-4c6...|c74c9d0f-f206-11e...|        true|0bcf2be1-3168-4e4...|b45854a7-e6e1-4a9...|         true|2015-11-22 00:00:00|          NULL|     NULL|1c632c30-3994-444...|\n",
      "|e17af58c-ee3d-4a7...|cbcea2c0-f206-11e...|        NULL|2323b76a-db98-4e0...|257a305e-4dd3-41f...|         NULL|2016-02-04 00:00:00|          NULL|     NULL|7108c409-6d1e-41d...|\n",
      "|22027c64-d45a-48a...|ca737f8f-f206-11e...|        NULL|d0766624-dbd7-453...|257a305e-4dd3-41f...|         NULL|2016-02-04 00:00:00|          NULL|     NULL|1ebdebca-e1f8-48f...|\n",
      "|8483565b-14d1-460...|c7805740-f206-11e...|        NULL|f72e0ef0-7c4a-430...|1e473914-46e4-408...|         NULL|2016-02-04 00:00:00|          NULL|     NULL|b5f6104e-3a99-438...|\n",
      "|bc8f0d7a-cf4b-4a2...|c7edbf0f-f206-11e...|        NULL|f72e0ef0-7c4a-430...|1e473914-46e4-408...|         NULL|2016-02-04 00:00:00|          NULL|     NULL|7248ebbd-cd40-456...|\n",
      "|f60f9d91-42c9-4a0...|cdb934b0-f206-11e...|        NULL|f72e0ef0-7c4a-430...|1e473914-46e4-408...|         NULL|2016-02-04 00:00:00|          NULL|     NULL|                NULL|\n",
      "|ad4a5b9d-7127-404...|c7edbf0f-f206-11e...|        true|f72e0ef0-7c4a-430...|1e473914-46e4-408...|         true|2016-02-13 00:00:00|          NULL|     NULL|d591e5ba-a0db-4bf...|\n",
      "|f44c9997-eb6f-4d6...|ce1dc2de-f206-11e...|        true|0504ca3c-de41-48f...|b0df8938-0fb6-42e...|         true|2016-02-28 00:00:00|          NULL|     NULL|d5a6277a-96d5-499...|\n",
      "|5d8c7557-5347-451...|cdb934b0-f206-11e...|        NULL|d0766624-dbd7-453...|257a305e-4dd3-41f...|         NULL|2016-02-04 00:00:00|          NULL|     NULL|                NULL|\n",
      "|89b24a08-8588-464...|cdb934b0-f206-11e...|        NULL|d0766624-dbd7-453...|257a305e-4dd3-41f...|         NULL|2016-02-04 00:00:00|          NULL|     NULL|                NULL|\n",
      "|01805fa5-bd7c-462...|cdb934b0-f206-11e...|        NULL|f72e0ef0-7c4a-430...|1e473914-46e4-408...|         NULL|2016-02-04 00:00:00|          NULL|     NULL|                NULL|\n",
      "+--------------------+--------------------+------------+--------------------+--------------------+-------------+-------------------+--------------+---------+--------------------+\n",
      "only showing top 20 rows\n",
      "\n"
     ]
    }
   ],
   "source": [
    "matches_df.show()"
   ]
  },
  {
   "cell_type": "code",
   "execution_count": 9,
   "id": "f68e316e-5b13-46fe-87bb-a09696b4fecc",
   "metadata": {},
   "outputs": [
    {
     "name": "stdout",
     "output_type": "stream",
     "text": [
      "+--------------------+---------------+----------+-----+\n",
      "|            match_id|player_gamertag|  medal_id|count|\n",
      "+--------------------+---------------+----------+-----+\n",
      "|009fdac5-e15c-47c...|       EcZachly|3261908037|    7|\n",
      "|009fdac5-e15c-47c...|       EcZachly| 824733727|    2|\n",
      "|009fdac5-e15c-47c...|       EcZachly|2078758684|    2|\n",
      "|009fdac5-e15c-47c...|       EcZachly|2782465081|    2|\n",
      "|9169d1a3-955c-4ea...|       EcZachly|3001183151|    1|\n",
      "|9169d1a3-955c-4ea...|       EcZachly|3565443938|    6|\n",
      "|9169d1a3-955c-4ea...|       EcZachly|3491849182|    1|\n",
      "|4a078b2f-65eb-4c6...|       EcZachly|3261908037|    8|\n",
      "|9169d1a3-955c-4ea...|       EcZachly|2105198095|    6|\n",
      "|9169d1a3-955c-4ea...|       EcZachly|2916014239|    3|\n",
      "|9169d1a3-955c-4ea...|       EcZachly|3261908037|    6|\n",
      "|9169d1a3-955c-4ea...|       EcZachly|1351381581|    2|\n",
      "|9169d1a3-955c-4ea...|       EcZachly|2838259753|    1|\n",
      "|9169d1a3-955c-4ea...|       EcZachly|3354395650|    1|\n",
      "|9169d1a3-955c-4ea...|       EcZachly| 298813630|    1|\n",
      "|9169d1a3-955c-4ea...|       EcZachly|2430242797|    1|\n",
      "|5ae5a459-6372-491...|       EcZachly|3261908037|    9|\n",
      "|5ae5a459-6372-491...|       EcZachly|2078758684|    2|\n",
      "|5ae5a459-6372-491...|       EcZachly| 824733727|    1|\n",
      "|5ae5a459-6372-491...|       EcZachly|1080468863|    1|\n",
      "+--------------------+---------------+----------+-----+\n",
      "only showing top 20 rows\n",
      "\n"
     ]
    }
   ],
   "source": [
    "medals_matches_players_df.show()"
   ]
  },
  {
   "cell_type": "code",
   "execution_count": 10,
   "id": "8e7f926b-0065-4a56-a5e5-2dd454537653",
   "metadata": {},
   "outputs": [
    {
     "name": "stdout",
     "output_type": "stream",
     "text": [
      "+----------+--------------------+-----------+----------+------------------+-------------------+------------+-------------+-----------------+--------------------+--------------+----------+\n",
      "|  medal_id|          sprite_uri|sprite_left|sprite_top|sprite_sheet_width|sprite_sheet_height|sprite_width|sprite_height|   classification|         description|          name|difficulty|\n",
      "+----------+--------------------+-----------+----------+------------------+-------------------+------------+-------------+-----------------+--------------------+--------------+----------+\n",
      "|2315448068|                NULL|       NULL|      NULL|              NULL|               NULL|        NULL|         NULL|             NULL|                NULL|          NULL|      NULL|\n",
      "|3565441934|                NULL|       NULL|      NULL|              NULL|               NULL|        NULL|         NULL|             NULL|                NULL|          NULL|      NULL|\n",
      "|4162659350|https://content.h...|        750|       750|                74|                 74|        1125|          899|         Breakout|Kill the last ene...| Buzzer Beater|        45|\n",
      "|1573153198|https://content.h...|          0|       300|                74|                 74|        1125|          899|         Breakout|Survive a one-on-...|    Vanquisher|        30|\n",
      "| 298813630|https://content.h...|          0|       825|                74|                 74|        1125|          899|            Style|Kill an enemy wit...|Spartan Charge|       135|\n",
      "|3824002610|https://content.h...|        750|       600|                74|                 74|        1125|          899|         Vehicles|Assist a player i...|  Ghost Assist|       140|\n",
      "|3324603383|https://content.h...|        225|       750|                74|                 74|        1125|          899|          Warzone|       Kill a Grunt.|    Grunt Kill|        60|\n",
      "| 979431049|https://content.h...|        975|       675|                74|                 74|        1125|          899|         Breakout|Survive a two-on-...|       Bifecta|        25|\n",
      "|3098362934|https://content.h...|        150|       750|                74|                 74|        1125|          899|WeaponProficiency|Kill a player in ...|  Perfect Kill|        25|\n",
      "|2435743433|https://content.h...|        750|       225|                74|                 74|        1125|          899|          Warzone|Kill an enemy in ...|  Base Defense|        30|\n",
      "|2430242797|https://content.h...|        675|       300|                74|                 74|        1125|          899|     KillingSpree|Kill 5 opponents ...| Killing Spree|        45|\n",
      "|1427531503|https://content.h...|        375|         0|                74|                 74|        1125|          899|            Style|Assist in a Team ...| Team Takedown|       245|\n",
      "|2359847435|https://content.h...|        525|       375|                74|                 74|        1125|          899|         Breakout|Kill every member...|    Extinction|        35|\n",
      "|1691836029|https://content.h...|        150|       375|                74|                 74|        1350|          824|            Style|Recharge your shi...|   Hard Target|       105|\n",
      "|2766284219|https://content.h...|        150|       525|                74|                 74|        1125|          899|            Style|Kill an opponent ...|     Quickdraw|       200|\n",
      "|3354395650|https://content.h...|        375|       600|                74|                 74|        1125|          899|      Strongholds|Capture 3 Strongh...| Capture Spree|        10|\n",
      "|2564994165|                NULL|       NULL|      NULL|              NULL|               NULL|        NULL|         NULL|WeaponProficiency|Pick up 3 power w...|Big Gun Runner|        75|\n",
      "|2896365521|https://content.h...|        300|       450|                74|                 74|        1125|          899|            Style|Assist in a Team ...| Team Takedown|       245|\n",
      "|3786961025|https://content.h...|        900|       450|                74|                 74|        1125|          899|            Style|Kill an opponent ...|      Fastball|        65|\n",
      "| 243900335|https://content.h...|        750|       375|                74|                 74|        1350|          824|WeaponProficiency|Kill an enemy by ...|  Shotgun Kill|       110|\n",
      "+----------+--------------------+-----------+----------+------------------+-------------------+------------+-------------+-----------------+--------------------+--------------+----------+\n",
      "only showing top 20 rows\n",
      "\n"
     ]
    }
   ],
   "source": [
    "medals_df.show()"
   ]
  },
  {
   "cell_type": "code",
   "execution_count": 11,
   "id": "42b86725-25b7-4205-b605-06e5b508cac9",
   "metadata": {},
   "outputs": [
    {
     "name": "stdout",
     "output_type": "stream",
     "text": [
      "+--------------------+-------------------+--------------------+\n",
      "|               mapid|               name|         description|\n",
      "+--------------------+-------------------+--------------------+\n",
      "|c93d708f-f206-11e...|              Urban|Andesia was the c...|\n",
      "|cb251c51-f206-11e...|     Raid on Apex 7|This unbroken rin...|\n",
      "|c854e54f-f206-11e...|March on Stormbreak|                NULL|\n",
      "|c8d69870-f206-11e...| Escape from A.R.C.|Scientists flocke...|\n",
      "|73ed1fd0-45e5-4bb...|             Osiris|                NULL|\n",
      "|96c3e3dd-7703-408...|          Blue Team|                NULL|\n",
      "|1c4f8e19-b046-4f7...|            Glassed|                NULL|\n",
      "|825065cf-df57-42e...|        Unconfirmed|                NULL|\n",
      "|9a188f67-1664-4d7...|           Alliance|                NULL|\n",
      "|2702ea83-2c3e-4fd...|   Before the Storm|                NULL|\n",
      "|82f8471c-a2ef-408...|            Genesis|                NULL|\n",
      "|fcd7caa4-37c9-436...|       The Breaking|                NULL|\n",
      "|7dc80b62-dd39-41d...|          Guardians|                NULL|\n",
      "|db9f76c4-6f9a-4c1...|   Meridian Station|                NULL|\n",
      "|b486c8f6-0b00-4a4...|         Evacuation|                NULL|\n",
      "|37c717b8-7ae8-4be...|            Reunion|                NULL|\n",
      "|72c98d4a-4ee4-40d...|Sword of Sanghelios|                NULL|\n",
      "|f352eafd-d307-434...|        Enemy Lines|                NULL|\n",
      "|8d72dd82-3afb-409...|  Battle of Sunaion|                NULL|\n",
      "|c822b1c0-f206-11e...|             Summit|The half-real spa...|\n",
      "+--------------------+-------------------+--------------------+\n",
      "only showing top 20 rows\n",
      "\n"
     ]
    }
   ],
   "source": [
    "maps_df.show()"
   ]
  },
  {
   "cell_type": "code",
   "execution_count": 12,
   "id": "15181fa2-1aed-4570-b856-8507436d4920",
   "metadata": {},
   "outputs": [
    {
     "data": {
      "text/plain": [
       "(24025, 40)"
      ]
     },
     "execution_count": 12,
     "metadata": {},
     "output_type": "execute_result"
    }
   ],
   "source": [
    "# check which df is bigger\n",
    "matches_df.count(), maps_df.count()"
   ]
  },
  {
   "cell_type": "code",
   "execution_count": 13,
   "id": "c626274b-2f6e-49eb-ba61-4dcb95bef589",
   "metadata": {},
   "outputs": [],
   "source": [
    "matches_with_map = matches_df.join(broadcast(maps_df), matches_df[\"mapid\"] == maps_df[\"mapid\"], \"inner\")"
   ]
  },
  {
   "cell_type": "code",
   "execution_count": 14,
   "id": "88e29d86-ec9f-42e8-9d98-1e07e4f8f5f0",
   "metadata": {},
   "outputs": [
    {
     "data": {
      "text/plain": [
       "['match_id',\n",
       " 'mapid',\n",
       " 'is_team_game',\n",
       " 'playlist_id',\n",
       " 'game_variant_id',\n",
       " 'is_match_over',\n",
       " 'completion_date',\n",
       " 'match_duration',\n",
       " 'game_mode',\n",
       " 'map_variant_id',\n",
       " 'mapid',\n",
       " 'name',\n",
       " 'description']"
      ]
     },
     "execution_count": 14,
     "metadata": {},
     "output_type": "execute_result"
    }
   ],
   "source": [
    "matches_with_map.columns"
   ]
  },
  {
   "cell_type": "code",
   "execution_count": 15,
   "id": "b964a585-d0bc-4ab0-9908-cddc80eb114a",
   "metadata": {},
   "outputs": [
    {
     "data": {
      "text/plain": [
       "(183, 755229)"
      ]
     },
     "execution_count": 15,
     "metadata": {},
     "output_type": "execute_result"
    }
   ],
   "source": [
    "medals_df.count(), medals_matches_players_df.count()"
   ]
  },
  {
   "cell_type": "code",
   "execution_count": 16,
   "id": "a9cadfb8-3700-4b8a-bcf1-7b4cd49843d8",
   "metadata": {},
   "outputs": [],
   "source": [
    "medals_matches_with_medals = medals_matches_players_df.join(\n",
    "                                    broadcast(medals_df), medals_matches_players_df[\"medal_id\"] == medals_df[\"medal_id\"],\n",
    "                                    \"inner\")"
   ]
  },
  {
   "cell_type": "code",
   "execution_count": 17,
   "id": "8eaa6025-f548-41f1-886d-30d6cd5dc49a",
   "metadata": {},
   "outputs": [
    {
     "name": "stdout",
     "output_type": "stream",
     "text": [
      "+--------------------+---------------+----------+-----+----------+--------------------+-----------+----------+------------------+-------------------+------------+-------------+-----------------+--------------------+-------------------+----------+\n",
      "|            match_id|player_gamertag|  medal_id|count|  medal_id|          sprite_uri|sprite_left|sprite_top|sprite_sheet_width|sprite_sheet_height|sprite_width|sprite_height|   classification|         description|               name|difficulty|\n",
      "+--------------------+---------------+----------+-----+----------+--------------------+-----------+----------+------------------+-------------------+------------+-------------+-----------------+--------------------+-------------------+----------+\n",
      "|009fdac5-e15c-47c...|       EcZachly|3261908037|    7|3261908037|https://content.h...|        375|       525|                74|                 74|        1125|          899|WeaponProficiency|Kill an opponent ...|           Headshot|        60|\n",
      "|009fdac5-e15c-47c...|       EcZachly| 824733727|    2| 824733727|https://content.h...|        975|       450|                74|                 74|        1125|          899|            Style|Distract an oppon...|        Distraction|       150|\n",
      "|009fdac5-e15c-47c...|       EcZachly|2078758684|    2|2078758684|https://content.h...|        450|       300|                74|                 74|        1125|          899|        MultiKill|Kill 2 opponents ...|        Double Kill|        45|\n",
      "|009fdac5-e15c-47c...|       EcZachly|2782465081|    2|2782465081|https://content.h...|          0|       675|                74|                 74|        1125|          899|            Style|Kill an enemy who...|           Reversal|       115|\n",
      "|9169d1a3-955c-4ea...|       EcZachly|3001183151|    1|3001183151|https://content.h...|        300|       600|                74|                 74|        1125|          899|            Style|Earn the first ki...|       First Strike|       180|\n",
      "|9169d1a3-955c-4ea...|       EcZachly|3565443938|    6|3565443938|https://content.h...|        750|       450|                74|                 74|        1125|          899|      Strongholds|Capture a Strongh...|Stronghold Captured|        15|\n",
      "|9169d1a3-955c-4ea...|       EcZachly|3491849182|    1|3491849182|https://content.h...|        450|       675|                74|                 74|        1125|          899|            Style|Get a long range ...|          Hail Mary|       160|\n",
      "|4a078b2f-65eb-4c6...|       EcZachly|3261908037|    8|3261908037|https://content.h...|        375|       525|                74|                 74|        1125|          899|WeaponProficiency|Kill an opponent ...|           Headshot|        60|\n",
      "|9169d1a3-955c-4ea...|       EcZachly|2105198095|    6|2105198095|https://content.h...|        525|       300|                74|                 74|        1125|          899|      Strongholds|Control all Stron...|      Total Control|         5|\n",
      "|9169d1a3-955c-4ea...|       EcZachly|2916014239|    3|2916014239|https://content.h...|        375|       450|                74|                 74|        1125|          899|            Style|Assist in a Team ...|      Team Takedown|       245|\n",
      "|9169d1a3-955c-4ea...|       EcZachly|3261908037|    6|3261908037|https://content.h...|        375|       525|                74|                 74|        1125|          899|WeaponProficiency|Kill an opponent ...|           Headshot|        60|\n",
      "|9169d1a3-955c-4ea...|       EcZachly|1351381581|    2|1351381581|https://content.h...|        225|       150|                74|                 74|        1125|          899|      Strongholds|Kill an enemy tha...| Stronghold Defense|        20|\n",
      "|9169d1a3-955c-4ea...|       EcZachly|2838259753|    1|2838259753|https://content.h...|        150|       600|                74|                 74|        1125|          899|            Style|Save a teammate b...|          Protector|       145|\n",
      "|9169d1a3-955c-4ea...|       EcZachly|3354395650|    1|3354395650|https://content.h...|        375|       600|                74|                 74|        1125|          899|      Strongholds|Capture 3 Strongh...|      Capture Spree|        10|\n",
      "|9169d1a3-955c-4ea...|       EcZachly| 298813630|    1| 298813630|https://content.h...|          0|       825|                74|                 74|        1125|          899|            Style|Kill an enemy wit...|     Spartan Charge|       135|\n",
      "|9169d1a3-955c-4ea...|       EcZachly|2430242797|    1|2430242797|https://content.h...|        675|       300|                74|                 74|        1125|          899|     KillingSpree|Kill 5 opponents ...|      Killing Spree|        45|\n",
      "|5ae5a459-6372-491...|       EcZachly|3261908037|    9|3261908037|https://content.h...|        375|       525|                74|                 74|        1125|          899|WeaponProficiency|Kill an opponent ...|           Headshot|        60|\n",
      "|5ae5a459-6372-491...|       EcZachly|2078758684|    2|2078758684|https://content.h...|        450|       300|                74|                 74|        1125|          899|        MultiKill|Kill 2 opponents ...|        Double Kill|        45|\n",
      "|5ae5a459-6372-491...|       EcZachly| 824733727|    1| 824733727|https://content.h...|        975|       450|                74|                 74|        1125|          899|            Style|Distract an oppon...|        Distraction|       150|\n",
      "|5ae5a459-6372-491...|       EcZachly|1080468863|    1|1080468863|https://content.h...|         75|         0|                74|                 74|        1125|          899|WeaponProficiency|Kill a player in ...|       Perfect Kill|        45|\n",
      "+--------------------+---------------+----------+-----+----------+--------------------+-----------+----------+------------------+-------------------+------------+-------------+-----------------+--------------------+-------------------+----------+\n",
      "only showing top 20 rows\n",
      "\n"
     ]
    }
   ],
   "source": [
    "medals_matches_with_medals.show()"
   ]
  },
  {
   "cell_type": "code",
   "execution_count": 18,
   "id": "72efcfdc-0c40-4af8-99ff-4f477743cd0b",
   "metadata": {},
   "outputs": [
    {
     "data": {
      "text/plain": [
       "(755229, 24025)"
      ]
     },
     "execution_count": 18,
     "metadata": {},
     "output_type": "execute_result"
    }
   ],
   "source": [
    "#check the numbers\n",
    "medals_matches_with_medals.count(), matches_with_map.count()"
   ]
  },
  {
   "cell_type": "code",
   "execution_count": 19,
   "id": "0630e18c-8953-4e11-b045-327218a9cc36",
   "metadata": {},
   "outputs": [],
   "source": [
    "medals_with_maps_joined = medals_matches_with_medals.join(\n",
    "                            broadcast(matches_with_map), medals_matches_with_medals[\"match_id\"] == matches_with_map[\"match_id\"], \"inner\")"
   ]
  },
  {
   "cell_type": "code",
   "execution_count": 20,
   "id": "2e6680a4-4606-4776-a79b-4d9c28561571",
   "metadata": {},
   "outputs": [
    {
     "data": {
      "text/plain": [
       "755229"
      ]
     },
     "execution_count": 20,
     "metadata": {},
     "output_type": "execute_result"
    }
   ],
   "source": [
    "medals_with_maps_joined.count()"
   ]
  },
  {
   "cell_type": "markdown",
   "id": "6f164fd0-564d-4e4c-902a-4996139a4049",
   "metadata": {},
   "source": [
    "## 2. Broadcast Join"
   ]
  },
  {
   "cell_type": "code",
   "execution_count": 21,
   "id": "5f640e5c-0dac-403c-a6c9-3c6a287cdf1d",
   "metadata": {},
   "outputs": [],
   "source": [
    "# Save bucketed tables\n",
    "match_details_df.write.format(\"parquet\") \\\n",
    "    .bucketBy(16, \"match_id\") \\\n",
    "    .mode(\"overwrite\") \\\n",
    "    .saveAsTable(\"bootcamp.bucketed_match_details\")\n",
    "\n",
    "matches_df.write.format(\"parquet\") \\\n",
    "    .bucketBy(16, \"match_id\") \\\n",
    "    .mode(\"overwrite\") \\\n",
    "    .saveAsTable(\"bootcamp.bucketed_matches\")\n",
    "\n",
    "medals_matches_players_df.write.format(\"parquet\") \\\n",
    "    .bucketBy(16, \"match_id\") \\\n",
    "    .mode(\"overwrite\") \\\n",
    "    .saveAsTable(\"bootcamp.bucketed_medals_matches_players\")\n",
    "\n",
    "# Load bucketed tables (if needed for future queries)\n",
    "bucketed_match_details = spark.table(\"bootcamp.bucketed_match_details\")\n",
    "bucketed_matches = spark.table(\"bootcamp.bucketed_matches\")\n",
    "bucketed_medals_matches_players = spark.table(\"bootcamp.bucketed_medals_matches_players\")\n",
    "\n",
    "# Perform the join on bucketed tables\n",
    "joined_df = bucketed_match_details.join(\n",
    "    bucketed_matches, \"match_id\", \"inner\"\n",
    ").join(\n",
    "    bucketed_medals_matches_players, [\"match_id\", \"player_gamertag\"], \"inner\"\n",
    ")"
   ]
  },
  {
   "cell_type": "markdown",
   "id": "bdfebbca-4774-4378-bce0-071dad772bbd",
   "metadata": {},
   "source": [
    "## 3. Which player averages the most kills per game?"
   ]
  },
  {
   "cell_type": "code",
   "execution_count": 22,
   "id": "7f053156-ec77-4988-8d1c-861c4fac9b30",
   "metadata": {},
   "outputs": [
    {
     "name": "stdout",
     "output_type": "stream",
     "text": [
      "Player with the most average kills per game: gimpinator14 (109.0 kills/game)\n"
     ]
    }
   ],
   "source": [
    "from pyspark.sql.functions import col, avg, desc, coalesce\n",
    "\n",
    "# Ensure player_total_kills is numeric and replace nulls with 0\n",
    "cleaned_df = joined_df.withColumn(\"player_total_kills\", coalesce(col(\"player_total_kills\"), col(\"player_total_kills\").cast(\"int\")).alias(\"player_total_kills\"))\n",
    "\n",
    "# Aggregate to calculate the average kills per game for each player\n",
    "player_avg_kills_df = cleaned_df.groupBy(\"bucketed_match_details.player_gamertag\") \\\n",
    "    .agg(avg(col(\"player_total_kills\")).alias(\"avg_kills_per_game\")) \\\n",
    "    .orderBy(desc(\"avg_kills_per_game\"))\n",
    "\n",
    "# Find the player with the maximum average kills per game\n",
    "top_player = player_avg_kills_df.first()\n",
    "\n",
    "print(f\"Player with the most average kills per game: {top_player['player_gamertag']} ({top_player['avg_kills_per_game']} kills/game)\")\n"
   ]
  },
  {
   "cell_type": "markdown",
   "id": "2955207d-3a44-4b29-a1ae-5f0c1237ff17",
   "metadata": {},
   "source": [
    "## 4. Which playlist gets played the most?"
   ]
  },
  {
   "cell_type": "code",
   "execution_count": 23,
   "id": "65da3a9f-9335-4a41-9577-f4ab4f4b8905",
   "metadata": {},
   "outputs": [
    {
     "name": "stdout",
     "output_type": "stream",
     "text": [
      "Playlist with the most plays: f72e0ef0-7c4a-4307-af78-8e38dac3fdba (7640 matches)\n"
     ]
    }
   ],
   "source": [
    "# Aggregate to calculate the count of matches per playlist\n",
    "playlist_count_df = joined_df.groupBy([\"playlist_id\"]) \\\n",
    "    .agg(countDistinct(\"match_id\").alias(\"num_distinct_matches\")) \\\n",
    "    .orderBy(desc(\"num_distinct_matches\"))\n",
    "\n",
    "# Find the playlist with the maximum number of matches\n",
    "top_playlist = playlist_count_df.first()\n",
    "\n",
    "print(f\"Playlist with the most plays: {top_playlist['playlist_id']} ({top_playlist['num_distinct_matches']} matches)\")\n"
   ]
  },
  {
   "cell_type": "markdown",
   "id": "9b1f76eb-35a4-4dbf-951d-c89559a2aa50",
   "metadata": {},
   "source": [
    "## 5. Which maps gets played the most"
   ]
  },
  {
   "cell_type": "code",
   "execution_count": 24,
   "id": "1a95aee6-a485-413a-b1a6-e38ba452782c",
   "metadata": {},
   "outputs": [
    {
     "name": "stdout",
     "output_type": "stream",
     "text": [
      "Map played the most: c7edbf0f-f206-11e4-aa52-24be05e24f7e (7032 matches)\n"
     ]
    }
   ],
   "source": [
    "# Aggregate to calculate the count of matches per map\n",
    "map_count_df = joined_df.groupBy(\"mapid\") \\\n",
    "    .agg(countDistinct(\"match_id\").alias(\"num_matches\")) \\\n",
    "    .orderBy(desc(\"num_matches\"))\n",
    "\n",
    "# Find the map with the maximum number of matches\n",
    "top_map = map_count_df.first()\n",
    "\n",
    "print(f\"Map played the most: {top_map['mapid']} ({top_map['num_matches']} matches)\")"
   ]
  },
  {
   "cell_type": "markdown",
   "id": "567e1c94-0d67-4c4e-bc1f-3a7025272162",
   "metadata": {},
   "source": [
    "## 6. Which map do players get the most Killing Spree medals on?"
   ]
  },
  {
   "cell_type": "code",
   "execution_count": 31,
   "id": "c5e7c460-8461-4e23-b47b-6fcac5482eab",
   "metadata": {},
   "outputs": [
    {
     "name": "stderr",
     "output_type": "stream",
     "text": [
      "24/12/13 20:16:06 WARN DataSourceV2Strategy: Can't translate true to source filter, unsupported expression\n"
     ]
    },
    {
     "name": "stdout",
     "output_type": "stream",
     "text": [
      "+--------------+--------------------------+\n",
      "|      map_name|total_killing_spree_medals|\n",
      "+--------------+--------------------------+\n",
      "|Breakout Arena|                      5159|\n",
      "+--------------+--------------------------+\n",
      "only showing top 1 row\n",
      "\n"
     ]
    }
   ],
   "source": [
    "# Medal ID corresponding to \"Killing Spree\"\n",
    "killing_spree_medal_id = 2430242797\n",
    "\n",
    "# Filter for Killing Spree medals\n",
    "killing_spree_df = joined_df.filter(col(\"medal_id\") == killing_spree_medal_id)\n",
    "\n",
    "# Remove duplicate (mapid, match_id) pairs to avoid double counting matches\n",
    "distinct_matches_df = killing_spree_df.select(\"mapid\", \"match_id\", \"count\").distinct()\n",
    "\n",
    "# Aggregate to find the sum of \"count\" per map\n",
    "killing_spree_by_map = distinct_matches_df.groupBy(\"mapid\") \\\n",
    "    .agg(sum(\"bucketed_medals_matches_players.count\").alias(\"total_killing_spree_medals\"))\n",
    "\n",
    "# Join with maps_df to get map names\n",
    "killing_spree_with_names = killing_spree_by_map.join(\n",
    "    maps_df, killing_spree_by_map.mapid == maps_df.mapid, \"inner\"\n",
    ").select(maps_df.name.alias(\"map_name\"), \"total_killing_spree_medals\") \\\n",
    " .orderBy(desc(\"total_killing_spree_medals\"))\n",
    "\n",
    "# Show the map with the most Killing Spree medals\n",
    "killing_spree_with_names.show(1)"
   ]
  },
  {
   "cell_type": "code",
   "execution_count": 26,
   "id": "ec879ee2-2ef8-4682-aaa5-b71a316d5e77",
   "metadata": {},
   "outputs": [
    {
     "name": "stderr",
     "output_type": "stream",
     "text": [
      "                                                                                \r"
     ]
    }
   ],
   "source": [
    "# Sort by playlist_id within partitions and save\n",
    "sorted_by_playlist = joined_df.sortWithinPartitions(\"playlist_id\")\n",
    "# Write the sorted DataFrames to storage and compare file sizes\n",
    "sorted_by_playlist.write.mode(\"overwrite\").saveAsTable(\"bootcamp.sorted_by_playlist\")\n",
    "\n",
    "# Sort by mapid within partitions and save\n",
    "sorted_by_map = joined_df.sortWithinPartitions(\"mapid\")\n",
    "sorted_by_map.write.mode(\"overwrite\").saveAsTable(\"bootcamp.sorted_by_map\")"
   ]
  },
  {
   "cell_type": "code",
   "execution_count": 27,
   "id": "36a69568-593d-4299-b9c8-6acc44c19fe5",
   "metadata": {},
   "outputs": [
    {
     "name": "stderr",
     "output_type": "stream",
     "text": [
      "24/12/13 20:12:05 WARN SparkSession: Using an existing Spark session; only runtime SQL configurations will take effect.\n"
     ]
    },
    {
     "data": {
      "text/html": [
       "<table>\n",
       "    <thead>\n",
       "        <tr>\n",
       "            <th>size</th>\n",
       "            <th>num_files</th>\n",
       "            <th>by_playlist</th>\n",
       "        </tr>\n",
       "    </thead>\n",
       "    <tbody>\n",
       "        <tr>\n",
       "            <td>18130999</td>\n",
       "            <td>13</td>\n",
       "            <td>by_playlist</td>\n",
       "        </tr>\n",
       "        <tr>\n",
       "            <td>18541324</td>\n",
       "            <td>13</td>\n",
       "            <td>by_map</td>\n",
       "        </tr>\n",
       "    </tbody>\n",
       "</table>"
      ],
      "text/plain": [
       "+----------+-----------+-------------+\n",
       "|     size | num_files | by_playlist |\n",
       "+----------+-----------+-------------+\n",
       "| 18130999 |        13 | by_playlist |\n",
       "| 18541324 |        13 |      by_map |\n",
       "+----------+-----------+-------------+"
      ]
     },
     "execution_count": 27,
     "metadata": {},
     "output_type": "execute_result"
    }
   ],
   "source": [
    "%%sql\n",
    "\n",
    "SELECT SUM(file_size_in_bytes) as size, COUNT(1) as num_files, 'by_playlist' \n",
    "FROM bootcamp.sorted_by_playlist.files\n",
    "\n",
    "UNION ALL\n",
    "SELECT SUM(file_size_in_bytes) as size, COUNT(1) as num_files, 'by_map' \n",
    "FROM bootcamp.sorted_by_map.files"
   ]
  },
  {
   "cell_type": "code",
   "execution_count": null,
   "id": "3478b37f-d32e-4531-900b-8bfd7f843321",
   "metadata": {},
   "outputs": [],
   "source": []
  }
 ],
 "metadata": {
  "kernelspec": {
   "display_name": "Python 3 (ipykernel)",
   "language": "python",
   "name": "python3"
  },
  "language_info": {
   "codemirror_mode": {
    "name": "ipython",
    "version": 3
   },
   "file_extension": ".py",
   "mimetype": "text/x-python",
   "name": "python",
   "nbconvert_exporter": "python",
   "pygments_lexer": "ipython3",
   "version": "3.9.18"
  }
 },
 "nbformat": 4,
 "nbformat_minor": 5
}
