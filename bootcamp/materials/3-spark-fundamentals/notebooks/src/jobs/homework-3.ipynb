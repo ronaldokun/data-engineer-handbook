{
 "cells": [
  {
   "cell_type": "markdown",
   "id": "e34f916c-18f3-49ca-9a0c-542205aa22a6",
   "metadata": {},
   "source": [
    "### Imports and load csv dataframes"
   ]
  },
  {
   "cell_type": "code",
   "execution_count": 1,
   "id": "5f55fb36-6351-4938-9674-72c8fa0156cf",
   "metadata": {},
   "outputs": [
    {
     "name": "stderr",
     "output_type": "stream",
     "text": [
      "24/12/10 22:50:59 WARN SparkSession: Using an existing Spark session; only runtime SQL configurations will take effect.\n"
     ]
    }
   ],
   "source": [
    "from pathlib import Path\n",
    "from pyspark.sql import SparkSession\n",
    "\n",
    "# Initialize Spark session\n",
    "spark = (\n",
    "    SparkSession.builder.appName(\"HomeWork3\")\n",
    "    .config(\"spark.executor.memory\", \"8g\")\n",
    "    .config(\"spark.driver.memory\", \"8g\")\n",
    "    .config(\"spark.sql.shuffle.partitions\", \"200\") # Fine for large datasets\n",
    "    .config(\"spark.sql.files.maxPartitionBytes\", \"134217728\") # Optional: 128 MB is default\n",
    "    .config(\"spark.sql.autoBroadcastJoinThreshold\", \"-1\") # Optional: Disable broadcast join\n",
    "    .config(\"spark.dynamicAllocation.enabled\", \"true\") # Helps with resource allocation\n",
    "    .config(\"spark.dynamicAllocation.minExecutors\", \"1\") # Ensure minimum resources\n",
    "    .config(\"spark.dynamicAllocation.maxExecutors\", \"50\") # Scalable resource allocation\n",
    "    .getOrCreate()\n",
    "    )\n"
   ]
  },
  {
   "cell_type": "code",
   "execution_count": 2,
   "id": "a24d6863-2ad7-4dc6-8ec5-dc6acefd88f3",
   "metadata": {},
   "outputs": [],
   "source": [
    "# Paths to your CSV files\n",
    "data_folder = Path(\"/home/iceberg/data\")\n",
    "\n",
    "match_details_path = f\"{data_folder}/match_details.csv\"\n",
    "matches_path = f\"{data_folder}/matches.csv\"\n",
    "medals_matches_players_path = f\"{data_folder}/medals_matches_players.csv\"\n",
    "medals_path = f\"{data_folder}/medals.csv\"\n",
    "maps_path = f\"{data_folder}/maps.csv\""
   ]
  },
  {
   "cell_type": "code",
   "execution_count": 3,
   "id": "27b3c0cb-597a-4689-8c1d-a0fb5cc12470",
   "metadata": {},
   "outputs": [],
   "source": [
    "# Reading CSV files into DataFrames\n",
    "match_details_df = spark.read.csv(match_details_path, header=True, inferSchema=True)\n",
    "matches_df = spark.read.csv(matches_path, header=True, inferSchema=True)\n",
    "medals_matches_players_df = spark.read.csv(medals_matches_players_path, header=True, inferSchema=True)\n",
    "medals_df = spark.read.csv(medals_path, header=True, inferSchema=True)\n",
    "maps_df = spark.read.csv(maps_path, header=True, inferSchema=True)"
   ]
  },
  {
   "cell_type": "code",
   "execution_count": 4,
   "id": "9c1d560e-0706-4d6c-99b0-b3cdb8e1b544",
   "metadata": {},
   "outputs": [
    {
     "name": "stderr",
     "output_type": "stream",
     "text": [
      "24/12/10 22:51:05 WARN SparkStringUtils: Truncated the string representation of a plan since it was too large. This behavior can be adjusted by setting 'spark.sql.debug.maxToStringFields'.\n"
     ]
    }
   ],
   "source": [
    "# Register DataFrames as temporary views or write them to Delta tables\n",
    "match_details_df.createOrReplaceTempView(\"match_details\")\n",
    "matches_df.createOrReplaceTempView(\"matches\")\n",
    "medals_matches_players_df.createOrReplaceTempView(\"medals_matches_players\")\n",
    "medals_df.createOrReplaceTempView(\"medals\")\n",
    "maps_df.createOrReplaceTempView(\"maps\")"
   ]
  },
  {
   "cell_type": "code",
   "execution_count": 5,
   "id": "be6c5fee-3b81-4f18-bc1f-1f2e6ed2ae36",
   "metadata": {},
   "outputs": [
    {
     "name": "stdout",
     "output_type": "stream",
     "text": [
      "+--------------------+--------------------+------------+--------------------+--------------------+-------------+-------------------+--------------+---------+--------------------+\n",
      "|            match_id|               mapid|is_team_game|         playlist_id|     game_variant_id|is_match_over|    completion_date|match_duration|game_mode|      map_variant_id|\n",
      "+--------------------+--------------------+------------+--------------------+--------------------+-------------+-------------------+--------------+---------+--------------------+\n",
      "|11de1a94-8d07-416...|c7edbf0f-f206-11e...|        true|f72e0ef0-7c4a-430...|1e473914-46e4-408...|         true|2016-02-22 00:00:00|          NULL|     NULL|                NULL|\n",
      "|d3643e71-3e51-43e...|cb914b9e-f206-11e...|       false|d0766624-dbd7-453...|257a305e-4dd3-41f...|         true|2016-02-14 00:00:00|          NULL|     NULL|                NULL|\n",
      "|d78d2aae-36e4-48a...|c7edbf0f-f206-11e...|        true|f72e0ef0-7c4a-430...|1e473914-46e4-408...|         true|2016-03-24 00:00:00|          NULL|     NULL|55e5ee2e-88df-465...|\n",
      "|b440069e-ec5f-4f5...|c7edbf0f-f206-11e...|        true|f72e0ef0-7c4a-430...|1e473914-46e4-408...|         true|2015-12-23 00:00:00|          NULL|     NULL|ec3eef73-13e3-4d4...|\n",
      "|1dd475fc-ee6b-4e1...|c93d708f-f206-11e...|        true|0e39ead4-383b-445...|42f97cca-2cb4-497...|         true|2016-04-07 00:00:00|          NULL|     NULL|                NULL|\n",
      "|848f02ad-72ef-479...|cbcea2c0-f206-11e...|        true|2323b76a-db98-4e0...|257a305e-4dd3-41f...|         true|2016-03-17 00:00:00|          NULL|     NULL|                NULL|\n",
      "|e207adc1-4d7a-43a...|cc74f4e1-f206-11e...|        true|2323b76a-db98-4e0...|257a305e-4dd3-41f...|         true|2016-04-05 00:00:00|          NULL|     NULL|                NULL|\n",
      "|1fb5c2ec-ca60-434...|ca737f8f-f206-11e...|        true|bc0f8ad6-31e6-4a1...|257a305e-4dd3-41f...|         true|2015-12-16 00:00:00|          NULL|     NULL|                NULL|\n",
      "|54f1cbd2-2be6-4d5...|cbcea2c0-f206-11e...|        NULL|892189e9-d712-4bd...|257a305e-4dd3-41f...|         NULL|2016-02-04 00:00:00|          NULL|     NULL|7108c409-6d1e-41d...|\n",
      "|9e079488-1355-4c6...|c74c9d0f-f206-11e...|        true|0bcf2be1-3168-4e4...|b45854a7-e6e1-4a9...|         true|2015-11-22 00:00:00|          NULL|     NULL|1c632c30-3994-444...|\n",
      "|e17af58c-ee3d-4a7...|cbcea2c0-f206-11e...|        NULL|2323b76a-db98-4e0...|257a305e-4dd3-41f...|         NULL|2016-02-04 00:00:00|          NULL|     NULL|7108c409-6d1e-41d...|\n",
      "|22027c64-d45a-48a...|ca737f8f-f206-11e...|        NULL|d0766624-dbd7-453...|257a305e-4dd3-41f...|         NULL|2016-02-04 00:00:00|          NULL|     NULL|1ebdebca-e1f8-48f...|\n",
      "|8483565b-14d1-460...|c7805740-f206-11e...|        NULL|f72e0ef0-7c4a-430...|1e473914-46e4-408...|         NULL|2016-02-04 00:00:00|          NULL|     NULL|b5f6104e-3a99-438...|\n",
      "|bc8f0d7a-cf4b-4a2...|c7edbf0f-f206-11e...|        NULL|f72e0ef0-7c4a-430...|1e473914-46e4-408...|         NULL|2016-02-04 00:00:00|          NULL|     NULL|7248ebbd-cd40-456...|\n",
      "|f60f9d91-42c9-4a0...|cdb934b0-f206-11e...|        NULL|f72e0ef0-7c4a-430...|1e473914-46e4-408...|         NULL|2016-02-04 00:00:00|          NULL|     NULL|                NULL|\n",
      "|ad4a5b9d-7127-404...|c7edbf0f-f206-11e...|        true|f72e0ef0-7c4a-430...|1e473914-46e4-408...|         true|2016-02-13 00:00:00|          NULL|     NULL|d591e5ba-a0db-4bf...|\n",
      "|f44c9997-eb6f-4d6...|ce1dc2de-f206-11e...|        true|0504ca3c-de41-48f...|b0df8938-0fb6-42e...|         true|2016-02-28 00:00:00|          NULL|     NULL|d5a6277a-96d5-499...|\n",
      "|5d8c7557-5347-451...|cdb934b0-f206-11e...|        NULL|d0766624-dbd7-453...|257a305e-4dd3-41f...|         NULL|2016-02-04 00:00:00|          NULL|     NULL|                NULL|\n",
      "|89b24a08-8588-464...|cdb934b0-f206-11e...|        NULL|d0766624-dbd7-453...|257a305e-4dd3-41f...|         NULL|2016-02-04 00:00:00|          NULL|     NULL|                NULL|\n",
      "|01805fa5-bd7c-462...|cdb934b0-f206-11e...|        NULL|f72e0ef0-7c4a-430...|1e473914-46e4-408...|         NULL|2016-02-04 00:00:00|          NULL|     NULL|                NULL|\n",
      "+--------------------+--------------------+------------+--------------------+--------------------+-------------+-------------------+--------------+---------+--------------------+\n",
      "only showing top 20 rows\n",
      "\n"
     ]
    }
   ],
   "source": [
    "matches_df.show()"
   ]
  },
  {
   "cell_type": "code",
   "execution_count": 6,
   "id": "59c3efb0-32a1-42e7-8ffd-4838852122f2",
   "metadata": {},
   "outputs": [
    {
     "name": "stdout",
     "output_type": "stream",
     "text": [
      "+----------+--------------------+-----------+----------+------------------+-------------------+------------+-------------+-----------------+--------------------+--------------+----------+\n",
      "|  medal_id|          sprite_uri|sprite_left|sprite_top|sprite_sheet_width|sprite_sheet_height|sprite_width|sprite_height|   classification|         description|          name|difficulty|\n",
      "+----------+--------------------+-----------+----------+------------------+-------------------+------------+-------------+-----------------+--------------------+--------------+----------+\n",
      "|2315448068|                NULL|       NULL|      NULL|              NULL|               NULL|        NULL|         NULL|             NULL|                NULL|          NULL|      NULL|\n",
      "|3565441934|                NULL|       NULL|      NULL|              NULL|               NULL|        NULL|         NULL|             NULL|                NULL|          NULL|      NULL|\n",
      "|4162659350|https://content.h...|        750|       750|                74|                 74|        1125|          899|         Breakout|Kill the last ene...| Buzzer Beater|        45|\n",
      "|1573153198|https://content.h...|          0|       300|                74|                 74|        1125|          899|         Breakout|Survive a one-on-...|    Vanquisher|        30|\n",
      "| 298813630|https://content.h...|          0|       825|                74|                 74|        1125|          899|            Style|Kill an enemy wit...|Spartan Charge|       135|\n",
      "|3824002610|https://content.h...|        750|       600|                74|                 74|        1125|          899|         Vehicles|Assist a player i...|  Ghost Assist|       140|\n",
      "|3324603383|https://content.h...|        225|       750|                74|                 74|        1125|          899|          Warzone|       Kill a Grunt.|    Grunt Kill|        60|\n",
      "| 979431049|https://content.h...|        975|       675|                74|                 74|        1125|          899|         Breakout|Survive a two-on-...|       Bifecta|        25|\n",
      "|3098362934|https://content.h...|        150|       750|                74|                 74|        1125|          899|WeaponProficiency|Kill a player in ...|  Perfect Kill|        25|\n",
      "|2435743433|https://content.h...|        750|       225|                74|                 74|        1125|          899|          Warzone|Kill an enemy in ...|  Base Defense|        30|\n",
      "|2430242797|https://content.h...|        675|       300|                74|                 74|        1125|          899|     KillingSpree|Kill 5 opponents ...| Killing Spree|        45|\n",
      "|1427531503|https://content.h...|        375|         0|                74|                 74|        1125|          899|            Style|Assist in a Team ...| Team Takedown|       245|\n",
      "|2359847435|https://content.h...|        525|       375|                74|                 74|        1125|          899|         Breakout|Kill every member...|    Extinction|        35|\n",
      "|1691836029|https://content.h...|        150|       375|                74|                 74|        1350|          824|            Style|Recharge your shi...|   Hard Target|       105|\n",
      "|2766284219|https://content.h...|        150|       525|                74|                 74|        1125|          899|            Style|Kill an opponent ...|     Quickdraw|       200|\n",
      "|3354395650|https://content.h...|        375|       600|                74|                 74|        1125|          899|      Strongholds|Capture 3 Strongh...| Capture Spree|        10|\n",
      "|2564994165|                NULL|       NULL|      NULL|              NULL|               NULL|        NULL|         NULL|WeaponProficiency|Pick up 3 power w...|Big Gun Runner|        75|\n",
      "|2896365521|https://content.h...|        300|       450|                74|                 74|        1125|          899|            Style|Assist in a Team ...| Team Takedown|       245|\n",
      "|3786961025|https://content.h...|        900|       450|                74|                 74|        1125|          899|            Style|Kill an opponent ...|      Fastball|        65|\n",
      "| 243900335|https://content.h...|        750|       375|                74|                 74|        1350|          824|WeaponProficiency|Kill an enemy by ...|  Shotgun Kill|       110|\n",
      "+----------+--------------------+-----------+----------+------------------+-------------------+------------+-------------+-----------------+--------------------+--------------+----------+\n",
      "only showing top 20 rows\n",
      "\n"
     ]
    }
   ],
   "source": [
    "medals_df.show()"
   ]
  },
  {
   "cell_type": "code",
   "execution_count": 7,
   "id": "443c74ac-f5dc-4b27-bb26-47ba02d38291",
   "metadata": {},
   "outputs": [
    {
     "name": "stdout",
     "output_type": "stream",
     "text": [
      "+--------------------+-------------------+--------------------+\n",
      "|               mapid|               name|         description|\n",
      "+--------------------+-------------------+--------------------+\n",
      "|c93d708f-f206-11e...|              Urban|Andesia was the c...|\n",
      "|cb251c51-f206-11e...|     Raid on Apex 7|This unbroken rin...|\n",
      "|c854e54f-f206-11e...|March on Stormbreak|                NULL|\n",
      "|c8d69870-f206-11e...| Escape from A.R.C.|Scientists flocke...|\n",
      "|73ed1fd0-45e5-4bb...|             Osiris|                NULL|\n",
      "|96c3e3dd-7703-408...|          Blue Team|                NULL|\n",
      "|1c4f8e19-b046-4f7...|            Glassed|                NULL|\n",
      "|825065cf-df57-42e...|        Unconfirmed|                NULL|\n",
      "|9a188f67-1664-4d7...|           Alliance|                NULL|\n",
      "|2702ea83-2c3e-4fd...|   Before the Storm|                NULL|\n",
      "|82f8471c-a2ef-408...|            Genesis|                NULL|\n",
      "|fcd7caa4-37c9-436...|       The Breaking|                NULL|\n",
      "|7dc80b62-dd39-41d...|          Guardians|                NULL|\n",
      "|db9f76c4-6f9a-4c1...|   Meridian Station|                NULL|\n",
      "|b486c8f6-0b00-4a4...|         Evacuation|                NULL|\n",
      "|37c717b8-7ae8-4be...|            Reunion|                NULL|\n",
      "|72c98d4a-4ee4-40d...|Sword of Sanghelios|                NULL|\n",
      "|f352eafd-d307-434...|        Enemy Lines|                NULL|\n",
      "|8d72dd82-3afb-409...|  Battle of Sunaion|                NULL|\n",
      "|c822b1c0-f206-11e...|             Summit|The half-real spa...|\n",
      "+--------------------+-------------------+--------------------+\n",
      "only showing top 20 rows\n",
      "\n"
     ]
    }
   ],
   "source": [
    "maps_df.show()"
   ]
  },
  {
   "cell_type": "code",
   "execution_count": 8,
   "id": "a9654599-55b3-4e55-94b7-73c204ac57d4",
   "metadata": {},
   "outputs": [
    {
     "name": "stdout",
     "output_type": "stream",
     "text": [
      "+--------------------+---------------+----------+-----+\n",
      "|            match_id|player_gamertag|  medal_id|count|\n",
      "+--------------------+---------------+----------+-----+\n",
      "|009fdac5-e15c-47c...|       EcZachly|3261908037|    7|\n",
      "|009fdac5-e15c-47c...|       EcZachly| 824733727|    2|\n",
      "|009fdac5-e15c-47c...|       EcZachly|2078758684|    2|\n",
      "|009fdac5-e15c-47c...|       EcZachly|2782465081|    2|\n",
      "|9169d1a3-955c-4ea...|       EcZachly|3001183151|    1|\n",
      "|9169d1a3-955c-4ea...|       EcZachly|3565443938|    6|\n",
      "|9169d1a3-955c-4ea...|       EcZachly|3491849182|    1|\n",
      "|4a078b2f-65eb-4c6...|       EcZachly|3261908037|    8|\n",
      "|9169d1a3-955c-4ea...|       EcZachly|2105198095|    6|\n",
      "|9169d1a3-955c-4ea...|       EcZachly|2916014239|    3|\n",
      "|9169d1a3-955c-4ea...|       EcZachly|3261908037|    6|\n",
      "|9169d1a3-955c-4ea...|       EcZachly|1351381581|    2|\n",
      "|9169d1a3-955c-4ea...|       EcZachly|2838259753|    1|\n",
      "|9169d1a3-955c-4ea...|       EcZachly|3354395650|    1|\n",
      "|9169d1a3-955c-4ea...|       EcZachly| 298813630|    1|\n",
      "|9169d1a3-955c-4ea...|       EcZachly|2430242797|    1|\n",
      "|5ae5a459-6372-491...|       EcZachly|3261908037|    9|\n",
      "|5ae5a459-6372-491...|       EcZachly|2078758684|    2|\n",
      "|5ae5a459-6372-491...|       EcZachly| 824733727|    1|\n",
      "|5ae5a459-6372-491...|       EcZachly|1080468863|    1|\n",
      "+--------------------+---------------+----------+-----+\n",
      "only showing top 20 rows\n",
      "\n"
     ]
    }
   ],
   "source": [
    "medals_matches_players_df.show()"
   ]
  },
  {
   "cell_type": "markdown",
   "id": "34fe3862-975a-472f-a2ac-eefea8ff30f8",
   "metadata": {},
   "source": [
    "match_details_df.show()"
   ]
  },
  {
   "cell_type": "markdown",
   "id": "8f28ab76-66aa-46ab-a718-05ac0c331770",
   "metadata": {},
   "source": [
    "### 1. Explicitly broadcast JOINs `medals` and `maps`"
   ]
  },
  {
   "cell_type": "code",
   "execution_count": 9,
   "id": "6d3ddf6a-b521-4663-acdf-a15d2ae6690a",
   "metadata": {},
   "outputs": [
    {
     "data": {
      "text/plain": [
       "(755229, 183)"
      ]
     },
     "execution_count": 9,
     "metadata": {},
     "output_type": "execute_result"
    }
   ],
   "source": [
    "# Check the size to know which table is smaller and to be used in the broadcast\n",
    "medals_matches_players_df.count(), medals_df.count()"
   ]
  },
  {
   "cell_type": "code",
   "execution_count": 10,
   "id": "1a08fc4b-628f-4289-a5c4-d80a4d6712ce",
   "metadata": {},
   "outputs": [
    {
     "data": {
      "text/plain": [
       "(24025, 40)"
      ]
     },
     "execution_count": 10,
     "metadata": {},
     "output_type": "execute_result"
    }
   ],
   "source": [
    "matches_df.count(), maps_df.count()"
   ]
  },
  {
   "cell_type": "code",
   "execution_count": 11,
   "id": "21f1b03e-4ecd-4fbc-b635-1a070fff4bf3",
   "metadata": {},
   "outputs": [],
   "source": [
    "from pyspark.sql.functions import broadcast"
   ]
  },
  {
   "cell_type": "code",
   "execution_count": 12,
   "id": "606af12c-93a9-4f4a-97c6-2f1de8786c77",
   "metadata": {},
   "outputs": [],
   "source": [
    "joined_medals_with_players = medals_matches_players_df.join(broadcast(medals_df), medals_matches_players_df[\"medal_id\"] == medals_df[\"medal_id\"], \"inner\")"
   ]
  },
  {
   "cell_type": "code",
   "execution_count": 13,
   "id": "d304f922-e644-4a08-b8b8-48e5360a2f0d",
   "metadata": {},
   "outputs": [
    {
     "name": "stdout",
     "output_type": "stream",
     "text": [
      "+--------------------+---------------+----------+-----+----------+--------------------+-----------+----------+------------------+-------------------+------------+-------------+-----------------+--------------------+-------------------+----------+\n",
      "|            match_id|player_gamertag|  medal_id|count|  medal_id|          sprite_uri|sprite_left|sprite_top|sprite_sheet_width|sprite_sheet_height|sprite_width|sprite_height|   classification|         description|               name|difficulty|\n",
      "+--------------------+---------------+----------+-----+----------+--------------------+-----------+----------+------------------+-------------------+------------+-------------+-----------------+--------------------+-------------------+----------+\n",
      "|009fdac5-e15c-47c...|       EcZachly|3261908037|    7|3261908037|https://content.h...|        375|       525|                74|                 74|        1125|          899|WeaponProficiency|Kill an opponent ...|           Headshot|        60|\n",
      "|009fdac5-e15c-47c...|       EcZachly| 824733727|    2| 824733727|https://content.h...|        975|       450|                74|                 74|        1125|          899|            Style|Distract an oppon...|        Distraction|       150|\n",
      "|009fdac5-e15c-47c...|       EcZachly|2078758684|    2|2078758684|https://content.h...|        450|       300|                74|                 74|        1125|          899|        MultiKill|Kill 2 opponents ...|        Double Kill|        45|\n",
      "|009fdac5-e15c-47c...|       EcZachly|2782465081|    2|2782465081|https://content.h...|          0|       675|                74|                 74|        1125|          899|            Style|Kill an enemy who...|           Reversal|       115|\n",
      "|9169d1a3-955c-4ea...|       EcZachly|3001183151|    1|3001183151|https://content.h...|        300|       600|                74|                 74|        1125|          899|            Style|Earn the first ki...|       First Strike|       180|\n",
      "|9169d1a3-955c-4ea...|       EcZachly|3565443938|    6|3565443938|https://content.h...|        750|       450|                74|                 74|        1125|          899|      Strongholds|Capture a Strongh...|Stronghold Captured|        15|\n",
      "|9169d1a3-955c-4ea...|       EcZachly|3491849182|    1|3491849182|https://content.h...|        450|       675|                74|                 74|        1125|          899|            Style|Get a long range ...|          Hail Mary|       160|\n",
      "|4a078b2f-65eb-4c6...|       EcZachly|3261908037|    8|3261908037|https://content.h...|        375|       525|                74|                 74|        1125|          899|WeaponProficiency|Kill an opponent ...|           Headshot|        60|\n",
      "|9169d1a3-955c-4ea...|       EcZachly|2105198095|    6|2105198095|https://content.h...|        525|       300|                74|                 74|        1125|          899|      Strongholds|Control all Stron...|      Total Control|         5|\n",
      "|9169d1a3-955c-4ea...|       EcZachly|2916014239|    3|2916014239|https://content.h...|        375|       450|                74|                 74|        1125|          899|            Style|Assist in a Team ...|      Team Takedown|       245|\n",
      "|9169d1a3-955c-4ea...|       EcZachly|3261908037|    6|3261908037|https://content.h...|        375|       525|                74|                 74|        1125|          899|WeaponProficiency|Kill an opponent ...|           Headshot|        60|\n",
      "|9169d1a3-955c-4ea...|       EcZachly|1351381581|    2|1351381581|https://content.h...|        225|       150|                74|                 74|        1125|          899|      Strongholds|Kill an enemy tha...| Stronghold Defense|        20|\n",
      "|9169d1a3-955c-4ea...|       EcZachly|2838259753|    1|2838259753|https://content.h...|        150|       600|                74|                 74|        1125|          899|            Style|Save a teammate b...|          Protector|       145|\n",
      "|9169d1a3-955c-4ea...|       EcZachly|3354395650|    1|3354395650|https://content.h...|        375|       600|                74|                 74|        1125|          899|      Strongholds|Capture 3 Strongh...|      Capture Spree|        10|\n",
      "|9169d1a3-955c-4ea...|       EcZachly| 298813630|    1| 298813630|https://content.h...|          0|       825|                74|                 74|        1125|          899|            Style|Kill an enemy wit...|     Spartan Charge|       135|\n",
      "|9169d1a3-955c-4ea...|       EcZachly|2430242797|    1|2430242797|https://content.h...|        675|       300|                74|                 74|        1125|          899|     KillingSpree|Kill 5 opponents ...|      Killing Spree|        45|\n",
      "|5ae5a459-6372-491...|       EcZachly|3261908037|    9|3261908037|https://content.h...|        375|       525|                74|                 74|        1125|          899|WeaponProficiency|Kill an opponent ...|           Headshot|        60|\n",
      "|5ae5a459-6372-491...|       EcZachly|2078758684|    2|2078758684|https://content.h...|        450|       300|                74|                 74|        1125|          899|        MultiKill|Kill 2 opponents ...|        Double Kill|        45|\n",
      "|5ae5a459-6372-491...|       EcZachly| 824733727|    1| 824733727|https://content.h...|        975|       450|                74|                 74|        1125|          899|            Style|Distract an oppon...|        Distraction|       150|\n",
      "|5ae5a459-6372-491...|       EcZachly|1080468863|    1|1080468863|https://content.h...|         75|         0|                74|                 74|        1125|          899|WeaponProficiency|Kill a player in ...|       Perfect Kill|        45|\n",
      "+--------------------+---------------+----------+-----+----------+--------------------+-----------+----------+------------------+-------------------+------------+-------------+-----------------+--------------------+-------------------+----------+\n",
      "only showing top 20 rows\n",
      "\n"
     ]
    }
   ],
   "source": [
    "joined_medals_with_players.show()"
   ]
  },
  {
   "cell_type": "code",
   "execution_count": 14,
   "id": "bf9a7109-9acc-4bb4-8866-ecfc8d74bdff",
   "metadata": {},
   "outputs": [],
   "source": [
    "joined_matches_with_map = matches_df.join(broadcast(maps_df), matches_df[\"mapid\"] == maps_df[\"mapid\"], \"inner\")"
   ]
  },
  {
   "cell_type": "code",
   "execution_count": 15,
   "id": "83b74dd9-76ac-4d20-864c-a911a1b0ea0c",
   "metadata": {},
   "outputs": [
    {
     "name": "stdout",
     "output_type": "stream",
     "text": [
      "+--------------------+--------------------+------------+--------------------+--------------------+-------------+-------------------+--------------+---------+--------------------+--------------------+--------------+--------------------+\n",
      "|            match_id|               mapid|is_team_game|         playlist_id|     game_variant_id|is_match_over|    completion_date|match_duration|game_mode|      map_variant_id|               mapid|          name|         description|\n",
      "+--------------------+--------------------+------------+--------------------+--------------------+-------------+-------------------+--------------+---------+--------------------+--------------------+--------------+--------------------+\n",
      "|11de1a94-8d07-416...|c7edbf0f-f206-11e...|        true|f72e0ef0-7c4a-430...|1e473914-46e4-408...|         true|2016-02-22 00:00:00|          NULL|     NULL|                NULL|c7edbf0f-f206-11e...|Breakout Arena|The broadcast of ...|\n",
      "|d3643e71-3e51-43e...|cb914b9e-f206-11e...|       false|d0766624-dbd7-453...|257a305e-4dd3-41f...|         true|2016-02-14 00:00:00|          NULL|     NULL|                NULL|cb914b9e-f206-11e...|       The Rig|Humanity’s raveno...|\n",
      "|d78d2aae-36e4-48a...|c7edbf0f-f206-11e...|        true|f72e0ef0-7c4a-430...|1e473914-46e4-408...|         true|2016-03-24 00:00:00|          NULL|     NULL|55e5ee2e-88df-465...|c7edbf0f-f206-11e...|Breakout Arena|The broadcast of ...|\n",
      "|b440069e-ec5f-4f5...|c7edbf0f-f206-11e...|        true|f72e0ef0-7c4a-430...|1e473914-46e4-408...|         true|2015-12-23 00:00:00|          NULL|     NULL|ec3eef73-13e3-4d4...|c7edbf0f-f206-11e...|Breakout Arena|The broadcast of ...|\n",
      "|1dd475fc-ee6b-4e1...|c93d708f-f206-11e...|        true|0e39ead4-383b-445...|42f97cca-2cb4-497...|         true|2016-04-07 00:00:00|          NULL|     NULL|                NULL|c93d708f-f206-11e...|         Urban|Andesia was the c...|\n",
      "|848f02ad-72ef-479...|cbcea2c0-f206-11e...|        true|2323b76a-db98-4e0...|257a305e-4dd3-41f...|         true|2016-03-17 00:00:00|          NULL|     NULL|                NULL|cbcea2c0-f206-11e...|      Riptide |The waters of thi...|\n",
      "|e207adc1-4d7a-43a...|cc74f4e1-f206-11e...|        true|2323b76a-db98-4e0...|257a305e-4dd3-41f...|         true|2016-04-05 00:00:00|          NULL|     NULL|                NULL|cc74f4e1-f206-11e...|          NULL|                NULL|\n",
      "|1fb5c2ec-ca60-434...|ca737f8f-f206-11e...|        true|bc0f8ad6-31e6-4a1...|257a305e-4dd3-41f...|         true|2015-12-16 00:00:00|          NULL|     NULL|                NULL|ca737f8f-f206-11e...|    Overgrowth|Nature has reclai...|\n",
      "|54f1cbd2-2be6-4d5...|cbcea2c0-f206-11e...|        NULL|892189e9-d712-4bd...|257a305e-4dd3-41f...|         NULL|2016-02-04 00:00:00|          NULL|     NULL|7108c409-6d1e-41d...|cbcea2c0-f206-11e...|      Riptide |The waters of thi...|\n",
      "|9e079488-1355-4c6...|c74c9d0f-f206-11e...|        true|0bcf2be1-3168-4e4...|b45854a7-e6e1-4a9...|         true|2015-11-22 00:00:00|          NULL|     NULL|1c632c30-3994-444...|c74c9d0f-f206-11e...|        Alpine|These vistas are ...|\n",
      "|e17af58c-ee3d-4a7...|cbcea2c0-f206-11e...|        NULL|2323b76a-db98-4e0...|257a305e-4dd3-41f...|         NULL|2016-02-04 00:00:00|          NULL|     NULL|7108c409-6d1e-41d...|cbcea2c0-f206-11e...|      Riptide |The waters of thi...|\n",
      "|22027c64-d45a-48a...|ca737f8f-f206-11e...|        NULL|d0766624-dbd7-453...|257a305e-4dd3-41f...|         NULL|2016-02-04 00:00:00|          NULL|     NULL|1ebdebca-e1f8-48f...|ca737f8f-f206-11e...|    Overgrowth|Nature has reclai...|\n",
      "|8483565b-14d1-460...|c7805740-f206-11e...|        NULL|f72e0ef0-7c4a-430...|1e473914-46e4-408...|         NULL|2016-02-04 00:00:00|          NULL|     NULL|b5f6104e-3a99-438...|c7805740-f206-11e...|       Glacier|Each of Halo's mi...|\n",
      "|bc8f0d7a-cf4b-4a2...|c7edbf0f-f206-11e...|        NULL|f72e0ef0-7c4a-430...|1e473914-46e4-408...|         NULL|2016-02-04 00:00:00|          NULL|     NULL|7248ebbd-cd40-456...|c7edbf0f-f206-11e...|Breakout Arena|The broadcast of ...|\n",
      "|f60f9d91-42c9-4a0...|cdb934b0-f206-11e...|        NULL|f72e0ef0-7c4a-430...|1e473914-46e4-408...|         NULL|2016-02-04 00:00:00|          NULL|     NULL|                NULL|cdb934b0-f206-11e...|        Empire|Military-industri...|\n",
      "|ad4a5b9d-7127-404...|c7edbf0f-f206-11e...|        true|f72e0ef0-7c4a-430...|1e473914-46e4-408...|         true|2016-02-13 00:00:00|          NULL|     NULL|d591e5ba-a0db-4bf...|c7edbf0f-f206-11e...|Breakout Arena|The broadcast of ...|\n",
      "|f44c9997-eb6f-4d6...|ce1dc2de-f206-11e...|        true|0504ca3c-de41-48f...|b0df8938-0fb6-42e...|         true|2016-02-28 00:00:00|          NULL|     NULL|d5a6277a-96d5-499...|ce1dc2de-f206-11e...|         Truth|                NULL|\n",
      "|5d8c7557-5347-451...|cdb934b0-f206-11e...|        NULL|d0766624-dbd7-453...|257a305e-4dd3-41f...|         NULL|2016-02-04 00:00:00|          NULL|     NULL|                NULL|cdb934b0-f206-11e...|        Empire|Military-industri...|\n",
      "|89b24a08-8588-464...|cdb934b0-f206-11e...|        NULL|d0766624-dbd7-453...|257a305e-4dd3-41f...|         NULL|2016-02-04 00:00:00|          NULL|     NULL|                NULL|cdb934b0-f206-11e...|        Empire|Military-industri...|\n",
      "|01805fa5-bd7c-462...|cdb934b0-f206-11e...|        NULL|f72e0ef0-7c4a-430...|1e473914-46e4-408...|         NULL|2016-02-04 00:00:00|          NULL|     NULL|                NULL|cdb934b0-f206-11e...|        Empire|Military-industri...|\n",
      "+--------------------+--------------------+------------+--------------------+--------------------+-------------+-------------------+--------------+---------+--------------------+--------------------+--------------+--------------------+\n",
      "only showing top 20 rows\n",
      "\n"
     ]
    }
   ],
   "source": [
    "joined_matches_with_map.show()"
   ]
  },
  {
   "cell_type": "code",
   "execution_count": 16,
   "id": "51c1f7d1-28db-4088-984d-b97ad119501b",
   "metadata": {},
   "outputs": [
    {
     "data": {
      "text/plain": [
       "(755229, 24025)"
      ]
     },
     "execution_count": 16,
     "metadata": {},
     "output_type": "execute_result"
    }
   ],
   "source": [
    "# check the sizes\n",
    "joined_medals_with_players.count(), joined_matches_with_map.count()"
   ]
  },
  {
   "cell_type": "code",
   "execution_count": 17,
   "id": "57c5b404-7d15-4eac-8b3e-50d50ae2b943",
   "metadata": {},
   "outputs": [],
   "source": [
    "joined_df = joined_medals_with_players.join(broadcast(joined_matches_with_map), joined_medals_with_players[\"match_id\"] == joined_matches_with_map[\"match_id\"], \"inner\")"
   ]
  },
  {
   "cell_type": "markdown",
   "id": "2c3a87d0-1068-412a-8c01-f4c374a8bd36",
   "metadata": {},
   "source": [
    "### 2. Bucket join `match_details`, `matches`, and `medal_matches_players` on `match_id` with `16` buckets\n"
   ]
  },
  {
   "cell_type": "code",
   "execution_count": 18,
   "id": "dd5c7611-ecf7-4e95-8f6a-3f0d7e3774aa",
   "metadata": {},
   "outputs": [],
   "source": [
    "# Save bucketed tables\n",
    "match_details_df.write.format(\"parquet\") \\\n",
    "    .bucketBy(16, \"match_id\") \\\n",
    "    .mode(\"overwrite\") \\\n",
    "    .saveAsTable(\"bootcamp.bucketed_match_details\")\n",
    "\n",
    "matches_df.write.format(\"parquet\") \\\n",
    "    .bucketBy(16, \"match_id\") \\\n",
    "    .mode(\"overwrite\") \\\n",
    "    .saveAsTable(\"bootcamp.bucketed_matches\")\n",
    "\n",
    "medals_matches_players_df.write.format(\"parquet\") \\\n",
    "    .bucketBy(16, \"match_id\") \\\n",
    "    .mode(\"overwrite\") \\\n",
    "    .saveAsTable(\"bootcamp.bucketed_medals_matches_players\")"
   ]
  },
  {
   "cell_type": "code",
   "execution_count": 19,
   "id": "a6f598f8-b6e1-4d1b-8bea-2e7e5c101386",
   "metadata": {},
   "outputs": [],
   "source": [
    "# Load bucketed tables (if needed for future queries)\n",
    "bucketed_match_details = spark.table(\"bootcamp.bucketed_match_details\")\n",
    "bucketed_matches = spark.table(\"bootcamp.bucketed_matches\")\n",
    "bucketed_medals_matches_players = spark.table(\"bootcamp.bucketed_medals_matches_players\")"
   ]
  },
  {
   "cell_type": "code",
   "execution_count": 20,
   "id": "02dcd727-de74-4252-af67-8901de2ed308",
   "metadata": {},
   "outputs": [],
   "source": [
    "# Perform the join on bucketed tables\n",
    "bucket_joined_df = bucketed_match_details.join(\n",
    "    bucketed_matches, \"match_id\", \"inner\"\n",
    ").join(\n",
    "    bucketed_medals_matches_players, [\"match_id\", \"player_gamertag\"], \"inner\"\n",
    ")"
   ]
  },
  {
   "cell_type": "code",
   "execution_count": 21,
   "id": "bffd3382-e8a5-499d-ae68-e05cb955e19c",
   "metadata": {},
   "outputs": [
    {
     "data": {
      "text/plain": [
       "751134"
      ]
     },
     "execution_count": 21,
     "metadata": {},
     "output_type": "execute_result"
    }
   ],
   "source": [
    "# Show the result of the join\n",
    "bucket_joined_df.count()"
   ]
  },
  {
   "cell_type": "code",
   "execution_count": 39,
   "id": "5db3c59d-5bde-442b-bc33-193892cc533c",
   "metadata": {},
   "outputs": [
    {
     "data": {
      "text/plain": [
       "755229"
      ]
     },
     "execution_count": 39,
     "metadata": {},
     "output_type": "execute_result"
    }
   ],
   "source": [
    "joined_df.count()"
   ]
  },
  {
   "cell_type": "code",
   "execution_count": 22,
   "id": "f049b4b9-f350-4ae2-9437-b144784580e3",
   "metadata": {},
   "outputs": [
    {
     "data": {
      "text/plain": [
       "['match_id',\n",
       " 'player_gamertag',\n",
       " 'previous_spartan_rank',\n",
       " 'spartan_rank',\n",
       " 'previous_total_xp',\n",
       " 'total_xp',\n",
       " 'previous_csr_tier',\n",
       " 'previous_csr_designation',\n",
       " 'previous_csr',\n",
       " 'previous_csr_percent_to_next_tier',\n",
       " 'previous_csr_rank',\n",
       " 'current_csr_tier',\n",
       " 'current_csr_designation',\n",
       " 'current_csr',\n",
       " 'current_csr_percent_to_next_tier',\n",
       " 'current_csr_rank',\n",
       " 'player_rank_on_team',\n",
       " 'player_finished',\n",
       " 'player_average_life',\n",
       " 'player_total_kills',\n",
       " 'player_total_headshots',\n",
       " 'player_total_weapon_damage',\n",
       " 'player_total_shots_landed',\n",
       " 'player_total_melee_kills',\n",
       " 'player_total_melee_damage',\n",
       " 'player_total_assassinations',\n",
       " 'player_total_ground_pound_kills',\n",
       " 'player_total_shoulder_bash_kills',\n",
       " 'player_total_grenade_damage',\n",
       " 'player_total_power_weapon_damage',\n",
       " 'player_total_power_weapon_grabs',\n",
       " 'player_total_deaths',\n",
       " 'player_total_assists',\n",
       " 'player_total_grenade_kills',\n",
       " 'did_win',\n",
       " 'team_id',\n",
       " 'mapid',\n",
       " 'is_team_game',\n",
       " 'playlist_id',\n",
       " 'game_variant_id',\n",
       " 'is_match_over',\n",
       " 'completion_date',\n",
       " 'match_duration',\n",
       " 'game_mode',\n",
       " 'map_variant_id',\n",
       " 'medal_id',\n",
       " 'count']"
      ]
     },
     "execution_count": 22,
     "metadata": {},
     "output_type": "execute_result"
    }
   ],
   "source": [
    "bucket_joined_df.columns"
   ]
  },
  {
   "cell_type": "code",
   "execution_count": 40,
   "id": "08b51ec7-9c56-450f-8ba4-8a4c1233d398",
   "metadata": {},
   "outputs": [
    {
     "data": {
      "text/plain": [
       "['match_id',\n",
       " 'player_gamertag',\n",
       " 'medal_id',\n",
       " 'count',\n",
       " 'medal_id',\n",
       " 'sprite_uri',\n",
       " 'sprite_left',\n",
       " 'sprite_top',\n",
       " 'sprite_sheet_width',\n",
       " 'sprite_sheet_height',\n",
       " 'sprite_width',\n",
       " 'sprite_height',\n",
       " 'classification',\n",
       " 'description',\n",
       " 'name',\n",
       " 'difficulty',\n",
       " 'match_id',\n",
       " 'mapid',\n",
       " 'is_team_game',\n",
       " 'playlist_id',\n",
       " 'game_variant_id',\n",
       " 'is_match_over',\n",
       " 'completion_date',\n",
       " 'match_duration',\n",
       " 'game_mode',\n",
       " 'map_variant_id',\n",
       " 'mapid',\n",
       " 'name',\n",
       " 'description']"
      ]
     },
     "execution_count": 40,
     "metadata": {},
     "output_type": "execute_result"
    }
   ],
   "source": [
    "joined_df.columns"
   ]
  },
  {
   "cell_type": "markdown",
   "id": "9d0508e1-08eb-415c-bb39-5f8ac6b7a096",
   "metadata": {},
   "source": [
    "## Fact Data Analysis "
   ]
  },
  {
   "cell_type": "markdown",
   "id": "ee5256a8-dc4b-4767-8a19-b7d70a10d741",
   "metadata": {},
   "source": [
    "### 4. Which player averages the most kills per game?"
   ]
  },
  {
   "cell_type": "code",
   "execution_count": 33,
   "id": "9c1c8d86-6240-4e07-b1fe-8ad82476d667",
   "metadata": {},
   "outputs": [
    {
     "name": "stdout",
     "output_type": "stream",
     "text": [
      "Player with the most average kills per game: gimpinator14 (109.0 kills/game)\n"
     ]
    }
   ],
   "source": [
    "from pyspark.sql.functions import col, avg, desc\n",
    "\n",
    "# Aggregate to calculate the average kills per game for each player\n",
    "player_avg_kills_df = bucket_joined_df.groupBy(\"player_gamertag\") \\\n",
    "    .agg(avg(col(\"player_total_kills\")).alias(\"avg_kills_per_game\")) \\\n",
    "    .orderBy(desc(\"avg_kills_per_game\"))\n",
    "\n",
    "# Find the player with the maximum average kills per game\n",
    "top_player = player_avg_kills_df.first()\n",
    "\n",
    "print(f\"Player with the most average kills per game: {top_player['player_gamertag']} ({top_player['avg_kills_per_game']} kills/game)\")\n"
   ]
  },
  {
   "cell_type": "markdown",
   "id": "f13a5926-b51a-4cfb-a823-251565fbe7ec",
   "metadata": {},
   "source": [
    "### 5. Which playlist gets played the most?"
   ]
  },
  {
   "cell_type": "code",
   "execution_count": 51,
   "id": "4c01d62b-c01b-4298-b03d-328f6ad8d9c1",
   "metadata": {},
   "outputs": [
    {
     "name": "stdout",
     "output_type": "stream",
     "text": [
      "Playlist with the most plays: f72e0ef0-7c4a-4307-af78-8e38dac3fdba (202489 matches)\n"
     ]
    }
   ],
   "source": [
    "from pyspark.sql.functions import col, count, desc\n",
    "\n",
    "# Aggregate to calculate the count of matches per playlist\n",
    "playlist_count_df = bucket_joined_df.groupBy([\"playlist_id\"]) \\\n",
    "    .agg(count(\"*\").alias(\"num_matches\")) \\\n",
    "    .orderBy(desc(\"num_matches\"))\n",
    "\n",
    "# Find the playlist with the maximum number of matches\n",
    "top_playlist = playlist_count_df.first()\n",
    "\n",
    "print(f\"Playlist with the most plays: {top_playlist['playlist_id']} ({top_playlist['num_matches']} matches)\")\n"
   ]
  },
  {
   "cell_type": "code",
   "execution_count": 47,
   "id": "20c7f604-a154-408a-9862-27a97a6fa20c",
   "metadata": {},
   "outputs": [
    {
     "name": "stdout",
     "output_type": "stream",
     "text": [
      "+--------------------+-----------+\n",
      "|         playlist_id|num_matches|\n",
      "+--------------------+-----------+\n",
      "|780cc101-005c-4fc...|        238|\n",
      "+--------------------+-----------+\n",
      "\n"
     ]
    }
   ],
   "source": [
    "# Register the DataFrame as a temporary SQL view\n",
    "bucket_joined_df.createOrReplaceTempView(\"bucket_joined_table\")\n",
    "\n",
    "# Use Spark SQL to find the playlist with the most matches\n",
    "playlist_query = \"\"\"\n",
    "    SELECT\n",
    "        playlist_id,\n",
    "        COUNT(*) AS num_matches\n",
    "    FROM\n",
    "        bucket_joined_table\n",
    "    GROUP BY\n",
    "        playlist_id, match_id\n",
    "    ORDER BY\n",
    "        num_matches DESC\n",
    "    LIMIT 1\n",
    "\"\"\"\n",
    "\n",
    "# Execute the query\n",
    "top_playlist_df = spark.sql(playlist_query)\n",
    "\n",
    "# Show the result\n",
    "top_playlist_df.show()\n"
   ]
  },
  {
   "cell_type": "markdown",
   "id": "dde40810-58a3-43fe-a809-9b49933ff3a0",
   "metadata": {},
   "source": [
    "### 6. Which map gets played the most?"
   ]
  },
  {
   "cell_type": "code",
   "execution_count": 57,
   "id": "a058191d-0333-4b0f-b380-d887afacb580",
   "metadata": {},
   "outputs": [
    {
     "name": "stderr",
     "output_type": "stream",
     "text": [
      "[Stage 593:>                                                        (0 + 5) / 5]\r"
     ]
    },
    {
     "name": "stdout",
     "output_type": "stream",
     "text": [
      "Map played the most: c7edbf0f-f206-11e4-aa52-24be05e24f7e (186118 matches)\n"
     ]
    },
    {
     "name": "stderr",
     "output_type": "stream",
     "text": [
      "                                                                                \r"
     ]
    }
   ],
   "source": [
    "from pyspark.sql.functions import count, desc\n",
    "\n",
    "# Aggregate to calculate the count of matches per map\n",
    "map_count_df = bucket_joined_df.groupBy([\"mapid\"]) \\\n",
    "    .agg(count(\"*\").alias(\"num_matches\")) \\\n",
    "    .orderBy(desc(\"num_matches\"))\n",
    "\n",
    "# Find the map with the maximum number of matches\n",
    "top_map = map_count_df.first()\n",
    "\n",
    "print(f\"Map played the most: {top_map['mapid']} ({top_map['num_matches']} matches)\")\n"
   ]
  },
  {
   "cell_type": "code",
   "execution_count": 58,
   "id": "152ad195-2687-48f6-baa5-6dff44f12686",
   "metadata": {},
   "outputs": [
    {
     "name": "stdout",
     "output_type": "stream",
     "text": [
      "+--------------+-----------+\n",
      "|          name|num_matches|\n",
      "+--------------+-----------+\n",
      "|Breakout Arena|     186118|\n",
      "+--------------+-----------+\n",
      "\n"
     ]
    }
   ],
   "source": [
    "# Register the DataFrame as a temporary SQL view\n",
    "bucket_joined_df.createOrReplaceTempView(\"bucket_joined_table\")\n",
    "maps_df.createOrReplaceTempView(\"maps\")\n",
    "\n",
    "# SQL query to find the map with the most matches\n",
    "map_query = \"\"\"\n",
    "    SELECT\n",
    "        maps.name,\n",
    "        COUNT(*) AS num_matches\n",
    "    FROM\n",
    "        bucket_joined_table\n",
    "    LEFT JOIN\n",
    "        maps\n",
    "    ON\n",
    "        bucket_joined_table.mapid = maps.mapid\n",
    "    GROUP BY\n",
    "        maps.name\n",
    "    ORDER BY\n",
    "        num_matches DESC\n",
    "    LIMIT 1\n",
    "\"\"\"\n",
    "\n",
    "# Execute the query\n",
    "top_map_df = spark.sql(map_query)\n",
    "\n",
    "# Show the result\n",
    "top_map_df.show()\n"
   ]
  },
  {
   "cell_type": "markdown",
   "id": "11af2c3f-666a-46d1-905b-a7574284eba7",
   "metadata": {},
   "source": [
    "### 7. Which map do players get the most Killing Spree medals on?"
   ]
  },
  {
   "cell_type": "code",
   "execution_count": 59,
   "id": "80a69ce5-6654-4123-aac1-7e04afdce9e3",
   "metadata": {},
   "outputs": [
    {
     "name": "stderr",
     "output_type": "stream",
     "text": [
      "24/12/11 00:10:12 WARN DataSourceV2Strategy: Can't translate true to source filter, unsupported expression\n"
     ]
    },
    {
     "name": "stdout",
     "output_type": "stream",
     "text": [
      "Map with the most Killing Spree medals: Breakout Arena (6738 medals)\n"
     ]
    }
   ],
   "source": [
    "from pyspark.sql.functions import col, sum, desc\n",
    "\n",
    "KILLING_SPREE_MEDAL_ID = 2430242797\n",
    "\n",
    "\n",
    "# Filter for Killing Spree medals\n",
    "killing_spree_df = bucket_joined_df.filter(col(\"medal_id\") == KILLING_SPREE_MEDAL_ID)\n",
    "\n",
    "# Aggregate to find the count of Killing Spree medals per map\n",
    "killing_spree_by_map = killing_spree_df.groupBy(\"mapid\") \\\n",
    "    .agg(sum(\"count\").alias(\"total_killing_spree_medals\"))\n",
    "\n",
    "# Join with maps_df to get map names\n",
    "killing_spree_with_names = killing_spree_by_map.join(\n",
    "    maps_df, killing_spree_by_map.mapid == maps_df.mapid, \"inner\"\n",
    ").select(maps_df.name, \"total_killing_spree_medals\") \\\n",
    " .orderBy(desc(\"total_killing_spree_medals\"))\n",
    "\n",
    "# Find the map with the most Killing Spree medals\n",
    "top_map = killing_spree_with_names.first()\n",
    "\n",
    "print(f\"Map with the most Killing Spree medals: {top_map['name']} ({top_map['total_killing_spree_medals']} medals)\")\n",
    "\n"
   ]
  },
  {
   "cell_type": "code",
   "execution_count": 61,
   "id": "2610ad4b-0276-4d0c-8df4-67cde8b5d5e6",
   "metadata": {},
   "outputs": [
    {
     "name": "stderr",
     "output_type": "stream",
     "text": [
      "24/12/11 00:10:31 WARN DataSourceV2Strategy: Can't translate true to source filter, unsupported expression\n"
     ]
    },
    {
     "name": "stdout",
     "output_type": "stream",
     "text": [
      "+--------------+--------------------------+\n",
      "|          name|total_killing_spree_medals|\n",
      "+--------------+--------------------------+\n",
      "|Breakout Arena|                      6738|\n",
      "+--------------+--------------------------+\n",
      "\n"
     ]
    }
   ],
   "source": [
    "# Register the DataFrame as a temporary SQL view\n",
    "bucket_joined_df.createOrReplaceTempView(\"bucket_joined_table\")\n",
    "maps_df.createOrReplaceTempView(\"maps\")\n",
    "\n",
    "\n",
    "KILLING_SPREE_MEDAL_ID = 2430242797\n",
    "\n",
    "# SQL query to find the map with the most Killing Spree medals, including map name\n",
    "killing_spree_query = f\"\"\"\n",
    "    SELECT\n",
    "        maps.name,\n",
    "        SUM(bucket_joined_table.count) AS total_killing_spree_medals\n",
    "    FROM\n",
    "        bucket_joined_table\n",
    "    JOIN\n",
    "        maps\n",
    "    ON\n",
    "        bucket_joined_table.mapid = maps.mapid\n",
    "    WHERE\n",
    "        bucket_joined_table.medal_id = {KILLING_SPREE_MEDAL_ID}\n",
    "    GROUP BY\n",
    "        maps.name\n",
    "    ORDER BY\n",
    "        total_killing_spree_medals DESC\n",
    "    LIMIT 1\n",
    "\"\"\"\n",
    "\n",
    "# Execute the query\n",
    "top_killing_spree_map_df = spark.sql(killing_spree_query)\n",
    "\n",
    "# Show the result\n",
    "top_killing_spree_map_df.show()"
   ]
  },
  {
   "cell_type": "code",
   "execution_count": 62,
   "id": "219f3052-04fe-4fbe-bce7-39c6715972e1",
   "metadata": {},
   "outputs": [],
   "source": [
    "from pyspark.sql.functions import col\n",
    "\n",
    "# Rename duplicate columns after join\n",
    "deduplicated_df = bucket_joined_df.toDF(*[f\"{col}\" if i == 0 else f\"{col}_dup\" for i, col in enumerate(bucket_joined_df.columns)])\n",
    "\n",
    "\n",
    "# Sort by playlist_id within partitions\n",
    "sorted_by_playlist = deduplicated_df.sortWithinPartitions(\"playlist_id\")\n",
    "\n",
    "# Sort by mapid within partitions\n",
    "sorted_by_map = deduplicated_df.sortWithinPartitions(\"mapid\")"
   ]
  },
  {
   "cell_type": "code",
   "execution_count": 63,
   "id": "62a8f3cb-098d-4406-af44-42786269b6ee",
   "metadata": {},
   "outputs": [],
   "source": [
    "# Write the sorted DataFrames to storage and compare file sizes\n",
    "sorted_by_playlist.write.mode(\"overwrite\").saveAsTable(\"bootcamp.sorted_by_playlist\")\n",
    "sorted_by_map.write.mode(\"overwrite\").saveAsTable(\"bootcamp.sorted_by_map\")"
   ]
  },
  {
   "cell_type": "code",
   "execution_count": 64,
   "id": "767faa39-d03f-4538-b370-8c415a3b5231",
   "metadata": {},
   "outputs": [
    {
     "name": "stderr",
     "output_type": "stream",
     "text": [
      "24/12/11 00:11:07 WARN SparkSession: Using an existing Spark session; only runtime SQL configurations will take effect.\n"
     ]
    },
    {
     "data": {
      "text/html": [
       "<table>\n",
       "    <thead>\n",
       "        <tr>\n",
       "            <th>size</th>\n",
       "            <th>num_files</th>\n",
       "            <th>by_playlist</th>\n",
       "        </tr>\n",
       "    </thead>\n",
       "    <tbody>\n",
       "        <tr>\n",
       "            <td>18588460</td>\n",
       "            <td>13</td>\n",
       "            <td>by_playlist</td>\n",
       "        </tr>\n",
       "        <tr>\n",
       "            <td>18888371</td>\n",
       "            <td>13</td>\n",
       "            <td>by_map</td>\n",
       "        </tr>\n",
       "    </tbody>\n",
       "</table>"
      ],
      "text/plain": [
       "+----------+-----------+-------------+\n",
       "|     size | num_files | by_playlist |\n",
       "+----------+-----------+-------------+\n",
       "| 18588460 |        13 | by_playlist |\n",
       "| 18888371 |        13 |      by_map |\n",
       "+----------+-----------+-------------+"
      ]
     },
     "execution_count": 64,
     "metadata": {},
     "output_type": "execute_result"
    }
   ],
   "source": [
    "%%sql\n",
    "\n",
    "SELECT SUM(file_size_in_bytes) as size, COUNT(1) as num_files, 'by_playlist' \n",
    "FROM bootcamp.sorted_by_playlist.files\n",
    "\n",
    "UNION ALL\n",
    "SELECT SUM(file_size_in_bytes) as size, COUNT(1) as num_files, 'by_map' \n",
    "FROM bootcamp.sorted_by_map.files"
   ]
  },
  {
   "cell_type": "code",
   "execution_count": null,
   "id": "cf6363ad-d496-4be5-b30a-d840ea3d7ebe",
   "metadata": {},
   "outputs": [],
   "source": []
  }
 ],
 "metadata": {
  "kernelspec": {
   "display_name": "Python 3 (ipykernel)",
   "language": "python",
   "name": "python3"
  },
  "language_info": {
   "codemirror_mode": {
    "name": "ipython",
    "version": 3
   },
   "file_extension": ".py",
   "mimetype": "text/x-python",
   "name": "python",
   "nbconvert_exporter": "python",
   "pygments_lexer": "ipython3",
   "version": "3.9.18"
  }
 },
 "nbformat": 4,
 "nbformat_minor": 5
}
