{
 "cells": [
  {
   "cell_type": "code",
   "execution_count": 6,
   "id": "2345e299-5a88-4534-b696-ff2227b0ce90",
   "metadata": {},
   "outputs": [],
   "source": [
    "from pathlib import Path\n",
    "from pyspark.sql import SparkSession"
   ]
  },
  {
   "cell_type": "code",
   "execution_count": 2,
   "id": "1bb27820-b1ee-45ba-b14c-0823de8a5501",
   "metadata": {},
   "outputs": [],
   "source": [
    "query = \"\"\"\n",
    "-- Define the STRUCT type for films\n",
    "CREATE OR REPLACE TEMP VIEW films_struct AS\n",
    "SELECT \n",
    "    CAST(NULL AS STRING) AS film,\n",
    "    CAST(NULL AS INT) AS votes,\n",
    "    CAST(NULL AS INT) AS rating,\n",
    "    CAST(NULL AS STRING) AS filmid;\n",
    "\n",
    "-- ENUM type equivalent: Use a CASE expression or a lookup table\n",
    "-- Spark SQL doesn't have ENUM types directly\n",
    "CREATE OR REPLACE TEMP VIEW quality_rating AS\n",
    "SELECT 'star' AS rating UNION ALL\n",
    "SELECT 'good' UNION ALL\n",
    "SELECT 'average' UNION ALL\n",
    "SELECT 'bad';\n",
    "\n",
    "-- Create the actors table using Delta Lake\n",
    "CREATE TABLE actors (\n",
    "    actorid STRING,\n",
    "    actor STRING,\n",
    "    films ARRAY<STRUCT<film: STRING, votes: INT, rating: INT, filmid: STRING>>,\n",
    "    quality_class STRING, -- Use STRING to represent ENUM\n",
    "    is_active BOOLEAN DEFAULT false,\n",
    "    current_year INT\n",
    ")\n",
    "USING DELTA;\n",
    "\n",
    "-- Create the actors history table\n",
    "CREATE TABLE actors_history_scd (\n",
    "    actorid STRING,\n",
    "    actor STRING,\n",
    "    quality_class STRING,\n",
    "    is_active BOOLEAN,\n",
    "    start_date DATE,\n",
    "    end_date DATE,\n",
    "    is_current BOOLEAN DEFAULT true\n",
    ")\n",
    "USING DELTA;\n",
    "\n",
    "-- Insert data into actors_history_scd\n",
    "INSERT INTO actors_history_scd\n",
    "SELECT\n",
    "    actorid,\n",
    "    actor,\n",
    "    quality_class,\n",
    "    is_active,\n",
    "    start_date,\n",
    "    DATE_SUB(LEAD(start_date, 1) OVER (PARTITION BY actorid ORDER BY start_date), 1) AS end_date,\n",
    "    CASE\n",
    "        WHEN LEAD(start_date, 1) OVER (PARTITION BY actorid ORDER BY start_date) IS NULL THEN true\n",
    "        ELSE false\n",
    "    END AS is_current\n",
    "FROM (\n",
    "    SELECT\n",
    "        actorid,\n",
    "        actor,\n",
    "        quality_class,\n",
    "        is_active,\n",
    "        MAKE_DATE(current_year, 1, 1) AS start_date\n",
    "    FROM actors\n",
    ") ordered_data;\n",
    "\n",
    "\"\"\""
   ]
  },
  {
   "cell_type": "code",
   "execution_count": 3,
   "id": "a7876c52-9a8b-40c2-b1d0-505eb6b23b7b",
   "metadata": {},
   "outputs": [],
   "source": [
    "def do_actors_scd_transformation(spark, dataframe):\n",
    "    dataframe.createOrReplaceTempView(\"actors\")\n",
    "    return spark.sql(query)\n",
    "\n",
    "\n",
    "def main():\n",
    "    spark = SparkSession.builder \\\n",
    "      .master(\"local\") \\\n",
    "      .appName(\"actors_scd\") \\\n",
    "      .getOrCreate()\n",
    "    output_df = do_player_scd_transformation(spark, spark.table(\"actors\"))\n",
    "    output_df.write.mode(\"overwrite\").insertInto(\"actors_scd\")\n",
    "\n"
   ]
  },
  {
   "cell_type": "code",
   "execution_count": null,
   "id": "63103797-655c-4518-9931-9aeaff61fc0e",
   "metadata": {},
   "outputs": [],
   "source": []
  }
 ],
 "metadata": {
  "kernelspec": {
   "display_name": "Python 3 (ipykernel)",
   "language": "python",
   "name": "python3"
  },
  "language_info": {
   "codemirror_mode": {
    "name": "ipython",
    "version": 3
   },
   "file_extension": ".py",
   "mimetype": "text/x-python",
   "name": "python",
   "nbconvert_exporter": "python",
   "pygments_lexer": "ipython3",
   "version": "3.9.18"
  }
 },
 "nbformat": 4,
 "nbformat_minor": 5
}
